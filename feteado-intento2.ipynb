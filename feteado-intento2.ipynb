{
 "cells": [
  {
   "cell_type": "code",
   "execution_count": 1,
   "metadata": {
    "collapsed": false
   },
   "outputs": [],
   "source": [
    "import pymesh\n",
    "import numpy as np\n",
    "import pandas as pd\n",
    "import math"
   ]
  },
  {
   "cell_type": "code",
   "execution_count": 2,
   "metadata": {
    "collapsed": false
   },
   "outputs": [],
   "source": [
    "landmarks = pd.read_csv(\"../data_artificial_cites/landmarks_reales/model_mesh_037.pts\",header=None,index_col=[0],skiprows=range(2),delimiter=r\"\\s+\")\n",
    "mesh = pymesh.load_mesh(\"./out/torsos/model_mesh_037.ply\")"
   ]
  },
  {
   "cell_type": "code",
   "execution_count": 3,
   "metadata": {
    "collapsed": false
   },
   "outputs": [],
   "source": [
    "ls0 = landmarks.iloc[0].tolist()\n",
    "ls1 = landmarks.iloc[4].tolist()\n",
    "ls2 = landmarks.iloc[9].tolist()\n",
    "ls3 = landmarks.iloc[10].tolist()\n",
    "head = landmarks.iloc[14].tolist()\n",
    "foot_left = landmarks.iloc[7].tolist()\n",
    "foot_right = landmarks.iloc[6].tolist()\n",
    "knee_left = landmarks.iloc[8].tolist()\n",
    "knee_right = landmarks.iloc[5].tolist()\n",
    "center_knee = np.array([knee_left,knee_right]).mean(0)"
   ]
  },
  {
   "cell_type": "code",
   "execution_count": 4,
   "metadata": {
    "collapsed": false
   },
   "outputs": [
    {
     "data": {
      "text/plain": [
       "26727"
      ]
     },
     "execution_count": 4,
     "metadata": {},
     "output_type": "execute_result"
    }
   ],
   "source": [
    "def distance3D(a, b):\n",
    "    return math.sqrt((a[0]-b[0])**2+(a[1]-b[1])**2+(a[2]-b[2])**2)\n",
    "\n",
    "semi_landmark = np.array([ls1,ls2]).mean(0)\n",
    "distancias = []\n",
    "for v in mesh.vertices:\n",
    "    distancias.append(distance3D(semi_landmark,v))\n",
    "distancias = np.array(distancias)\n",
    "centro = mesh.vertices[distancias.argmin()]\n",
    "distancias.argmin()\n"
   ]
  },
  {
   "cell_type": "code",
   "execution_count": 5,
   "metadata": {
    "collapsed": false
   },
   "outputs": [],
   "source": [
    "delta = [0.4,0.0003,0.4]\n",
    "xdot = (head[0]*center_knee[0] + head[1]*center_knee[1] + head[2]*center_knee[2])\n",
    "norma = math.sqrt(head[0]**2+head[1]**2+head[2]**2) * math.sqrt(center_knee[0]**2+center_knee[1]**2+center_knee[2]**2)\n",
    "angle_head = (math.cos(xdot/norma) ** -1)\n",
    "angle_head_r = math.radians(90 - math.degrees(angle_head))\n",
    "q = pymesh.misc.Quaternion(quat=[1,-angle_head_r, 0,0])\n",
    "\n",
    "p1 = centro + delta\n",
    "p2 =centro  -  delta\n",
    "#r_p1 = q.rotate(p1)\n",
    "#r_p2 = q.rotate(p2)"
   ]
  },
  {
   "cell_type": "code",
   "execution_count": 6,
   "metadata": {
    "collapsed": false
   },
   "outputs": [],
   "source": [
    "#c = pymesh.meshutils.generate_box_mesh([0,0,0],[0.01,0.15,0.2],1)\n",
    "\n",
    "#c = pymesh.meshutils.generate_box_mesh([0,0,0.5],[0.01,2.5,2.5],1)\n",
    "c = pymesh.meshutils.generate_box_mesh(p2,p1 ,1)"
   ]
  },
  {
   "cell_type": "code",
   "execution_count": 7,
   "metadata": {
    "collapsed": false
   },
   "outputs": [],
   "source": [
    "#translate axis y"
   ]
  },
  {
   "cell_type": "code",
   "execution_count": 8,
   "metadata": {
    "collapsed": true
   },
   "outputs": [],
   "source": [
    "matrix_translate = [[1,0,0,0],[0,1,0,0.05],[0,0,1,0],[0,0,0,1]]"
   ]
  },
  {
   "cell_type": "code",
   "execution_count": 9,
   "metadata": {
    "collapsed": false
   },
   "outputs": [],
   "source": [
    "alpha = math.pi /8\n",
    "#matrix = [[1,0,0],[0,math.cos(alpha),-math.sin(alpha)],[0,math.sin(alpha),math.cos(alpha)],[0,0,0]]\n",
    "matrix = [[1,0,0,0],[0,math.cos(alpha),-math.sin(alpha),0],[0,math.sin(alpha),math.cos(alpha),0],[0,0,0,1]]\n",
    "\n",
    "for i,v in enumerate(c.vertices_ref):\n",
    "    c.vertices_ref[i] = np.dot(matrix,[v[0],v[1],v[2],1])[:-1] \n",
    "    #c.vertices_ref[i] = np.dot(matrix,v)[:-1] \n",
    "pymesh.save_mesh(\"out/torso.ply\", c)"
   ]
  },
  {
   "cell_type": "code",
   "execution_count": null,
   "metadata": {
    "collapsed": false
   },
   "outputs": [],
   "source": []
  },
  {
   "cell_type": "code",
   "execution_count": 10,
   "metadata": {
    "collapsed": false
   },
   "outputs": [],
   "source": [
    " n = c.vertices_ref.mean(0)"
   ]
  },
  {
   "cell_type": "code",
   "execution_count": 11,
   "metadata": {
    "collapsed": false
   },
   "outputs": [],
   "source": [
    "d = pymesh.meshutils.generate_icosphere(0.01,centro)\n",
    "pymesh.save_mesh(\"out/landk.ply\", d)"
   ]
  },
  {
   "cell_type": "code",
   "execution_count": 12,
   "metadata": {
    "collapsed": true
   },
   "outputs": [],
   "source": [
    "d = pymesh.meshutils.generate_icosphere(0.01,[n[0],n[1],n[2]])\n",
    "pymesh.save_mesh(\"out/landk_1.ply\", d)"
   ]
  },
  {
   "cell_type": "code",
   "execution_count": 13,
   "metadata": {
    "collapsed": false,
    "scrolled": true
   },
   "outputs": [
    {
     "data": {
      "text/plain": [
       "-0.02825361570547652"
      ]
     },
     "execution_count": 13,
     "metadata": {},
     "output_type": "execute_result"
    }
   ],
   "source": [
    "centro[1] - n[1]"
   ]
  },
  {
   "cell_type": "code",
   "execution_count": null,
   "metadata": {
    "collapsed": true
   },
   "outputs": [],
   "source": []
  },
  {
   "cell_type": "code",
   "execution_count": 14,
   "metadata": {
    "collapsed": true
   },
   "outputs": [],
   "source": [
    "matrix_translate = [[1,0,0,0],[0,1,0,abs(centro[1] - n[1])],[0,0,1,0],[0,0,0,1]]"
   ]
  },
  {
   "cell_type": "code",
   "execution_count": null,
   "metadata": {
    "collapsed": true
   },
   "outputs": [],
   "source": []
  },
  {
   "cell_type": "code",
   "execution_count": 15,
   "metadata": {
    "collapsed": false
   },
   "outputs": [],
   "source": [
    "# for i,v in enumerate(c.vertices_ref):\n",
    "#     #c.vertices_ref[i] = np.dot(matrix_translate,[v[0],v[1],v[2],1])[:-1] \n",
    "#     c.vertices_ref[i] = [v[0],centro[1],v[2]]\n",
    "#     #c.vertices_ref[i] = np.dot(matrix,v)[:-1] \n",
    "# pymesh.save_mesh(\"out/torso.ply\", c)"
   ]
  },
  {
   "cell_type": "code",
   "execution_count": null,
   "metadata": {
    "collapsed": true
   },
   "outputs": [],
   "source": []
  },
  {
   "cell_type": "code",
   "execution_count": 16,
   "metadata": {
    "collapsed": true
   },
   "outputs": [],
   "source": [
    "output_mesh = pymesh.boolean(c, mesh, operation=\"intersection\",engine=\"auto\")"
   ]
  },
  {
   "cell_type": "code",
   "execution_count": 17,
   "metadata": {
    "collapsed": true
   },
   "outputs": [],
   "source": [
    "pymesh.save_mesh(\"out/feta-1.ply\", output_mesh)"
   ]
  },
  {
   "cell_type": "code",
   "execution_count": 18,
   "metadata": {
    "collapsed": true
   },
   "outputs": [],
   "source": [
    "vertexs_2d = np.delete(output_mesh.vertices, [1], axis=1)"
   ]
  },
  {
   "cell_type": "code",
   "execution_count": 19,
   "metadata": {
    "collapsed": false
   },
   "outputs": [],
   "source": [
    "import matplotlib.pyplot as plt\n",
    "from scipy.spatial import ConvexHull\n",
    "import scipy"
   ]
  },
  {
   "cell_type": "code",
   "execution_count": 20,
   "metadata": {
    "collapsed": false
   },
   "outputs": [
    {
     "data": {
      "image/png": "[encoded data removed]",
      "text/plain": [
       "<matplotlib.figure.Figure at 0x7f0ccf33e6d0>"
      ]
     },
     "metadata": {},
     "output_type": "display_data"
    }
   ],
   "source": [
    "hull = ConvexHull(vertexs_2d,incremental=True)\n",
    "#plt.plot(output_mesh.vertices[hull.vertices,0], output_mesh.vertices[hull.vertices,2], 'r.')\n",
    "plt.plot(output_mesh.vertices[:,0], output_mesh.vertices[:,2], 'r.')\n",
    "plt.show()"
   ]
  },
  {
   "cell_type": "code",
   "execution_count": 21,
   "metadata": {
    "collapsed": true
   },
   "outputs": [],
   "source": [
    "def distance2D(a, b):\n",
    "        return math.sqrt( ((b[0]-a[0])**2)  + ((b[1]-a[1])**2) )"
   ]
  },
  {
   "cell_type": "code",
   "execution_count": null,
   "metadata": {
    "collapsed": false
   },
   "outputs": [],
   "source": []
  },
  {
   "cell_type": "code",
   "execution_count": 22,
   "metadata": {
    "collapsed": false
   },
   "outputs": [
    {
     "data": {
      "text/plain": [
       "92.15939231989334"
      ]
     },
     "execution_count": 22,
     "metadata": {},
     "output_type": "execute_result"
    }
   ],
   "source": [
    "aux = 0\n",
    "for i,v in enumerate(vertexs_2d[hull.vertices][:-1]):\n",
    "    aux = aux + distance2D(v,vertexs_2d[hull.vertices][i+1])\n",
    "aux = aux + distance2D(vertexs_2d[hull.vertices][0],vertexs_2d[hull.vertices][-1])\n",
    "aux * 100"
   ]
  },
  {
   "cell_type": "code",
   "execution_count": 23,
   "metadata": {
    "collapsed": false
   },
   "outputs": [],
   "source": [
    "mx = np.mean(vertexs_2d[:,0])"
   ]
  },
  {
   "cell_type": "code",
   "execution_count": 24,
   "metadata": {
    "collapsed": false
   },
   "outputs": [],
   "source": [
    "my = np.mean(vertexs_2d[:,1])"
   ]
  },
  {
   "cell_type": "code",
   "execution_count": 25,
   "metadata": {
    "collapsed": true
   },
   "outputs": [],
   "source": [
    "vertexs_2d.sort?"
   ]
  },
  {
   "cell_type": "code",
   "execution_count": 26,
   "metadata": {
    "collapsed": false
   },
   "outputs": [],
   "source": [
    "pr1 = np.array(sorted(vertexs_2d, key=lambda x : (math.atan2(x[0] - mx, x[1] - my) + 2 * math.pi) % (2*math.pi)))"
   ]
  },
  {
   "cell_type": "code",
   "execution_count": 27,
   "metadata": {
    "collapsed": false
   },
   "outputs": [
    {
     "data": {
      "text/plain": [
       "(850, 2)"
      ]
     },
     "execution_count": 27,
     "metadata": {},
     "output_type": "execute_result"
    }
   ],
   "source": [
    "pr1.shape"
   ]
  },
  {
   "cell_type": "code",
   "execution_count": 28,
   "metadata": {
    "collapsed": false
   },
   "outputs": [
    {
     "data": {
      "image/png": "[encoded data removed]",
      "text/plain": [
       "<matplotlib.figure.Figure at 0x7f0ccf33e690>"
      ]
     },
     "metadata": {},
     "output_type": "display_data"
    }
   ],
   "source": [
    "plt.plot(pr1[:,0], pr1[:,1], 'r--')\n",
    "plt.show()"
   ]
  },
  {
   "cell_type": "code",
   "execution_count": 29,
   "metadata": {
    "collapsed": false
   },
   "outputs": [
    {
     "data": {
      "text/plain": [
       "99.17431850044312"
      ]
     },
     "execution_count": 29,
     "metadata": {},
     "output_type": "execute_result"
    }
   ],
   "source": [
    "aux = 0\n",
    "for i,v in enumerate(pr1[:-1]):\n",
    "    aux = aux + distance2D(v,pr1[i+1])\n",
    "aux = aux + distance2D(pr1[0],pr1[-1])\n",
    "aux*100"
   ]
  }
 ],
 "metadata": {
  "kernelspec": {
   "display_name": "Python 2",
   "language": "python",
   "name": "python2"
  },
  "language_info": {
   "codemirror_mode": {
    "name": "ipython",
    "version": 2
   },
   "file_extension": ".py",
   "mimetype": "text/x-python",
   "name": "python",
   "nbconvert_exporter": "python",
   "pygments_lexer": "ipython2",
   "version": "2.7.9"
  }
 },
 "nbformat": 4,
 "nbformat_minor": 2
}
