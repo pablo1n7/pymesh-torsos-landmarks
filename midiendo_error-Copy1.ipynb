{
 "cells": [
  {
   "cell_type": "code",
   "execution_count": 1,
   "metadata": {
    "collapsed": true
   },
   "outputs": [],
   "source": [
    "import pandas as pd\n",
    "from glob import glob\n",
    "import numpy as np\n",
    "from scipy.spatial import distance\n",
    "import re\n",
    "import pymesh,math"
   ]
  },
  {
   "cell_type": "code",
   "execution_count": null,
   "metadata": {
    "collapsed": true
   },
   "outputs": [],
   "source": [
    "# !pip install xlrd"
   ]
  },
  {
   "cell_type": "code",
   "execution_count": 2,
   "metadata": {
    "collapsed": false
   },
   "outputs": [],
   "source": [
    "data = pd.read_excel(\"../planilla_colecta.xlsx\")"
   ]
  },
  {
   "cell_type": "code",
   "execution_count": 3,
   "metadata": {
    "collapsed": false
   },
   "outputs": [],
   "source": [
    "data = data[[\"id\",\"sexo\",\"peso\",\"promedio altura\",\"promedio cir cad\"]]"
   ]
  },
  {
   "cell_type": "code",
   "execution_count": 4,
   "metadata": {
    "collapsed": false
   },
   "outputs": [],
   "source": [
    "row_data = data.loc[data['id'] == 1].iloc[0].tolist()"
   ]
  },
  {
   "cell_type": "code",
   "execution_count": 5,
   "metadata": {
    "collapsed": false
   },
   "outputs": [
    {
     "data": {
      "text/plain": [
       "[1, u'f', 62.299999999999997, 163.40000000000001, 101.045]"
      ]
     },
     "execution_count": 5,
     "metadata": {},
     "output_type": "execute_result"
    }
   ],
   "source": [
    "row_data"
   ]
  },
  {
   "cell_type": "code",
   "execution_count": 6,
   "metadata": {
    "collapsed": false
   },
   "outputs": [],
   "source": [
    "fs_landmarks = sorted(glob(\"../data_artificial_cites/landmarks_reales/*.pts\"))\n",
    "fs_mesh = sorted(glob(\"./out/torsos/*.ply\"))"
   ]
  },
  {
   "cell_type": "code",
   "execution_count": null,
   "metadata": {
    "collapsed": false
   },
   "outputs": [],
   "source": []
  },
  {
   "cell_type": "code",
   "execution_count": 18,
   "metadata": {
    "collapsed": false
   },
   "outputs": [],
   "source": [
    "estatura_error = []\n",
    "estatura_calculada = []\n",
    "cadera_calculada=[]\n",
    "cadera_error=[]\n",
    "for landmarks_f, mesh_f in zip(fs_landmarks[:], fs_mesh[:]):\n",
    "    row_data = data.loc[data['id'] == int(re.findall(\"\\d+\",landmarks_f)[0])].iloc[0].tolist()\n",
    "    landmarks = pd.read_csv(landmarks_f,header=None,index_col=[0],skiprows=range(2),delimiter=r\"\\s+\")\n",
    "    mesh = pymesh.load_mesh(mesh_f)\n",
    "    #mesh = pymesh.load_mesh(mesh_f)\n",
    "    head = landmarks.iloc[14].tolist()\n",
    "    center_foot = np.array([landmarks.iloc[7].tolist(),landmarks.iloc[6].tolist()]).mean(0)\n",
    "    estatura = distance.pdist(np.array([head,center_foot]))[0]*100\n",
    "    estatura_calculada.append(estatura)\n",
    "    estatura_error.append( estatura - row_data[3])\n",
    "    \n",
    "    ls0 = landmarks.iloc[0].tolist()\n",
    "    ls1 = landmarks.iloc[4].tolist()\n",
    "    ls2 = landmarks.iloc[9].tolist()\n",
    "    ls3 = landmarks.iloc[10].tolist()\n",
    "    head = landmarks.iloc[14].tolist()\n",
    "    foot_left = landmarks.iloc[7].tolist()\n",
    "    foot_right = landmarks.iloc[6].tolist()\n",
    "    knee_left = landmarks.iloc[8].tolist()\n",
    "    knee_right = landmarks.iloc[5].tolist()\n",
    "    center_knee = np.array([knee_left,knee_right]).mean(0)\n",
    "    \n",
    "    def distance3D(a, b):\n",
    "        return math.sqrt((a[0]-b[0])**2+(a[1]-b[1])**2+(a[2]-b[2])**2)\n",
    "    \n",
    "    \n",
    "    semi_landmark = np.array([ls1,ls2]).mean(0)\n",
    "    distancias = []\n",
    "    for v in mesh.vertices:\n",
    "        distancias.append(distance3D(semi_landmark,v))\n",
    "    distancias = np.array(distancias)\n",
    "    centro = mesh.vertices[distancias.argmin()]\n",
    "    distancias.argmin()\n",
    "    \n",
    "    delta = [0.4,0.0003,0.4]\n",
    "    xdot = (head[0]*center_knee[0] + head[1]*center_knee[1] + head[2]*center_knee[2])\n",
    "    norma = math.sqrt(head[0]**2+head[1]**2+head[2]**2) * math.sqrt(center_knee[0]**2+center_knee[1]**2+center_knee[2]**2)\n",
    "    angle_head = (math.cos(xdot/norma) ** -1)\n",
    "    angle_head_r = math.radians(90 - math.degrees(angle_head))\n",
    "    q = pymesh.misc.Quaternion(quat=[1,-angle_head_r, 0,0])\n",
    "    \n",
    "    \n",
    "\n",
    "    p1 = centro + delta\n",
    "    p2 =centro  -  delta\n",
    "    \n",
    "    c = pymesh.meshutils.generate_box_mesh(p2,p1 ,1)\n",
    "    \n",
    "    alpha = math.pi /8\n",
    "    #matrix = [[1,0,0],[0,math.cos(alpha),-math.sin(alpha)],[0,math.sin(alpha),math.cos(alpha)],[0,0,0]]\n",
    "    matrix = [[1,0,0,0],[0,math.cos(alpha),-math.sin(alpha),0.05],[0,math.sin(alpha),math.cos(alpha),0],[0,0,0,1]]\n",
    "\n",
    "    for i,v in enumerate(c.vertices_ref):\n",
    "        c.vertices_ref[i] = np.dot(matrix,[v[0],v[1],v[2],1])[:-1] \n",
    "        \n",
    "    output_mesh = pymesh.boolean(c, mesh, operation=\"intersection\",engine=\"auto\")\n",
    "    vertexs_2d = np.delete(output_mesh.vertices, [1], axis=1)\n",
    "    \n",
    "    def distance2D(a, b):\n",
    "        return math.sqrt( ((b[0]-a[0])**2)  + ((b[1]-a[1])**2) )\n",
    "    \n",
    "    mx = np.mean(vertexs_2d[:,0])\n",
    "    my = np.mean(vertexs_2d[:,1])\n",
    "    \n",
    "    pr1 = np.array(sorted(vertexs_2d, key=lambda x : (math.atan2(x[0] - mx, x[1] - my) + 2 * math.pi) % (2*math.pi)))\n",
    "    aux = 0\n",
    "    for i,v in enumerate(pr1[:-1]):\n",
    "        aux = aux + distance2D(v,pr1[i+1])\n",
    "    aux = aux + distance2D(pr1[0],pr1[-1])    \n",
    "    cadera_calculada.append(aux*100)\n",
    "    cadera_error.append((aux*100) - row_data[4])"
   ]
  },
  {
   "cell_type": "code",
   "execution_count": 11,
   "metadata": {
    "collapsed": false
   },
   "outputs": [
    {
     "data": {
      "text/plain": [
       "(5,)"
      ]
     },
     "execution_count": 11,
     "metadata": {},
     "output_type": "execute_result"
    }
   ],
   "source": [
    "np.shape(estatura_error)"
   ]
  },
  {
   "cell_type": "code",
   "execution_count": 13,
   "metadata": {
    "collapsed": false
   },
   "outputs": [
    {
     "data": {
      "text/plain": [
       "[160.66467388320308,\n",
       " 167.73817356671265,\n",
       " 168.86697536457967,\n",
       " 161.78538565915451,\n",
       " 165.830201341085]"
      ]
     },
     "execution_count": 13,
     "metadata": {},
     "output_type": "execute_result"
    }
   ],
   "source": [
    "estatura_calculada"
   ]
  },
  {
   "cell_type": "code",
   "execution_count": 15,
   "metadata": {
    "collapsed": false
   },
   "outputs": [
    {
     "data": {
      "text/plain": [
       "[-2.7353261167969265,\n",
       " -1.861826433287348,\n",
       " -3.4330246354203382,\n",
       " -4.3146143408454805,\n",
       " -4.7697986589149934]"
      ]
     },
     "execution_count": 15,
     "metadata": {},
     "output_type": "execute_result"
    }
   ],
   "source": [
    "estatura_error"
   ]
  },
  {
   "cell_type": "code",
   "execution_count": null,
   "metadata": {
    "collapsed": true
   },
   "outputs": [],
   "source": []
  },
  {
   "cell_type": "code",
   "execution_count": 10,
   "metadata": {
    "collapsed": false
   },
   "outputs": [
    {
     "ename": "ValueError",
     "evalue": "Length of values does not match length of index",
     "output_type": "error",
     "traceback": [
      "\u001b[0;31m---------------------------------------------------------------------------\u001b[0m",
      "\u001b[0;31mValueError\u001b[0m                                Traceback (most recent call last)",
      "\u001b[0;32m<ipython-input-10-305cfadd8fc9>\u001b[0m in \u001b[0;36m<module>\u001b[0;34m()\u001b[0m\n\u001b[0;32m----> 1\u001b[0;31m \u001b[0mdata\u001b[0m\u001b[0;34m[\u001b[0m\u001b[0;34m\"estatura cal\"\u001b[0m\u001b[0;34m]\u001b[0m \u001b[0;34m=\u001b[0m \u001b[0mestatura_calculada\u001b[0m\u001b[0;34m\u001b[0m\u001b[0m\n\u001b[0m\u001b[1;32m      2\u001b[0m \u001b[0mdata\u001b[0m\u001b[0;34m[\u001b[0m\u001b[0;34m\"estatura error\"\u001b[0m\u001b[0;34m]\u001b[0m \u001b[0;34m=\u001b[0m \u001b[0mestatura_error\u001b[0m\u001b[0;34m\u001b[0m\u001b[0m\n",
      "\u001b[0;32m/usr/local/lib/python2.7/dist-packages/pandas/core/frame.pyc\u001b[0m in \u001b[0;36m__setitem__\u001b[0;34m(self, key, value)\u001b[0m\n\u001b[1;32m   2417\u001b[0m         \u001b[0;32melse\u001b[0m\u001b[0;34m:\u001b[0m\u001b[0;34m\u001b[0m\u001b[0m\n\u001b[1;32m   2418\u001b[0m             \u001b[0;31m# set column\u001b[0m\u001b[0;34m\u001b[0m\u001b[0;34m\u001b[0m\u001b[0m\n\u001b[0;32m-> 2419\u001b[0;31m             \u001b[0mself\u001b[0m\u001b[0;34m.\u001b[0m\u001b[0m_set_item\u001b[0m\u001b[0;34m(\u001b[0m\u001b[0mkey\u001b[0m\u001b[0;34m,\u001b[0m \u001b[0mvalue\u001b[0m\u001b[0;34m)\u001b[0m\u001b[0;34m\u001b[0m\u001b[0m\n\u001b[0m\u001b[1;32m   2420\u001b[0m \u001b[0;34m\u001b[0m\u001b[0m\n\u001b[1;32m   2421\u001b[0m     \u001b[0;32mdef\u001b[0m \u001b[0m_setitem_slice\u001b[0m\u001b[0;34m(\u001b[0m\u001b[0mself\u001b[0m\u001b[0;34m,\u001b[0m \u001b[0mkey\u001b[0m\u001b[0;34m,\u001b[0m \u001b[0mvalue\u001b[0m\u001b[0;34m)\u001b[0m\u001b[0;34m:\u001b[0m\u001b[0;34m\u001b[0m\u001b[0m\n",
      "\u001b[0;32m/usr/local/lib/python2.7/dist-packages/pandas/core/frame.pyc\u001b[0m in \u001b[0;36m_set_item\u001b[0;34m(self, key, value)\u001b[0m\n\u001b[1;32m   2483\u001b[0m \u001b[0;34m\u001b[0m\u001b[0m\n\u001b[1;32m   2484\u001b[0m         \u001b[0mself\u001b[0m\u001b[0;34m.\u001b[0m\u001b[0m_ensure_valid_index\u001b[0m\u001b[0;34m(\u001b[0m\u001b[0mvalue\u001b[0m\u001b[0;34m)\u001b[0m\u001b[0;34m\u001b[0m\u001b[0m\n\u001b[0;32m-> 2485\u001b[0;31m         \u001b[0mvalue\u001b[0m \u001b[0;34m=\u001b[0m \u001b[0mself\u001b[0m\u001b[0;34m.\u001b[0m\u001b[0m_sanitize_column\u001b[0m\u001b[0;34m(\u001b[0m\u001b[0mkey\u001b[0m\u001b[0;34m,\u001b[0m \u001b[0mvalue\u001b[0m\u001b[0;34m)\u001b[0m\u001b[0;34m\u001b[0m\u001b[0m\n\u001b[0m\u001b[1;32m   2486\u001b[0m         \u001b[0mNDFrame\u001b[0m\u001b[0;34m.\u001b[0m\u001b[0m_set_item\u001b[0m\u001b[0;34m(\u001b[0m\u001b[0mself\u001b[0m\u001b[0;34m,\u001b[0m \u001b[0mkey\u001b[0m\u001b[0;34m,\u001b[0m \u001b[0mvalue\u001b[0m\u001b[0;34m)\u001b[0m\u001b[0;34m\u001b[0m\u001b[0m\n\u001b[1;32m   2487\u001b[0m \u001b[0;34m\u001b[0m\u001b[0m\n",
      "\u001b[0;32m/usr/local/lib/python2.7/dist-packages/pandas/core/frame.pyc\u001b[0m in \u001b[0;36m_sanitize_column\u001b[0;34m(self, key, value, broadcast)\u001b[0m\n\u001b[1;32m   2654\u001b[0m \u001b[0;34m\u001b[0m\u001b[0m\n\u001b[1;32m   2655\u001b[0m             \u001b[0;31m# turn me into an ndarray\u001b[0m\u001b[0;34m\u001b[0m\u001b[0;34m\u001b[0m\u001b[0m\n\u001b[0;32m-> 2656\u001b[0;31m             \u001b[0mvalue\u001b[0m \u001b[0;34m=\u001b[0m \u001b[0m_sanitize_index\u001b[0m\u001b[0;34m(\u001b[0m\u001b[0mvalue\u001b[0m\u001b[0;34m,\u001b[0m \u001b[0mself\u001b[0m\u001b[0;34m.\u001b[0m\u001b[0mindex\u001b[0m\u001b[0;34m,\u001b[0m \u001b[0mcopy\u001b[0m\u001b[0;34m=\u001b[0m\u001b[0mFalse\u001b[0m\u001b[0;34m)\u001b[0m\u001b[0;34m\u001b[0m\u001b[0m\n\u001b[0m\u001b[1;32m   2657\u001b[0m             \u001b[0;32mif\u001b[0m \u001b[0;32mnot\u001b[0m \u001b[0misinstance\u001b[0m\u001b[0;34m(\u001b[0m\u001b[0mvalue\u001b[0m\u001b[0;34m,\u001b[0m \u001b[0;34m(\u001b[0m\u001b[0mnp\u001b[0m\u001b[0;34m.\u001b[0m\u001b[0mndarray\u001b[0m\u001b[0;34m,\u001b[0m \u001b[0mIndex\u001b[0m\u001b[0;34m)\u001b[0m\u001b[0;34m)\u001b[0m\u001b[0;34m:\u001b[0m\u001b[0;34m\u001b[0m\u001b[0m\n\u001b[1;32m   2658\u001b[0m                 \u001b[0;32mif\u001b[0m \u001b[0misinstance\u001b[0m\u001b[0;34m(\u001b[0m\u001b[0mvalue\u001b[0m\u001b[0;34m,\u001b[0m \u001b[0mlist\u001b[0m\u001b[0;34m)\u001b[0m \u001b[0;32mand\u001b[0m \u001b[0mlen\u001b[0m\u001b[0;34m(\u001b[0m\u001b[0mvalue\u001b[0m\u001b[0;34m)\u001b[0m \u001b[0;34m>\u001b[0m \u001b[0;36m0\u001b[0m\u001b[0;34m:\u001b[0m\u001b[0;34m\u001b[0m\u001b[0m\n",
      "\u001b[0;32m/usr/local/lib/python2.7/dist-packages/pandas/core/series.pyc\u001b[0m in \u001b[0;36m_sanitize_index\u001b[0;34m(data, index, copy)\u001b[0m\n\u001b[1;32m   2798\u001b[0m \u001b[0;34m\u001b[0m\u001b[0m\n\u001b[1;32m   2799\u001b[0m     \u001b[0;32mif\u001b[0m \u001b[0mlen\u001b[0m\u001b[0;34m(\u001b[0m\u001b[0mdata\u001b[0m\u001b[0;34m)\u001b[0m \u001b[0;34m!=\u001b[0m \u001b[0mlen\u001b[0m\u001b[0;34m(\u001b[0m\u001b[0mindex\u001b[0m\u001b[0;34m)\u001b[0m\u001b[0;34m:\u001b[0m\u001b[0;34m\u001b[0m\u001b[0m\n\u001b[0;32m-> 2800\u001b[0;31m         \u001b[0;32mraise\u001b[0m \u001b[0mValueError\u001b[0m\u001b[0;34m(\u001b[0m\u001b[0;34m'Length of values does not match length of '\u001b[0m \u001b[0;34m'index'\u001b[0m\u001b[0;34m)\u001b[0m\u001b[0;34m\u001b[0m\u001b[0m\n\u001b[0m\u001b[1;32m   2801\u001b[0m \u001b[0;34m\u001b[0m\u001b[0m\n\u001b[1;32m   2802\u001b[0m     \u001b[0;32mif\u001b[0m \u001b[0misinstance\u001b[0m\u001b[0;34m(\u001b[0m\u001b[0mdata\u001b[0m\u001b[0;34m,\u001b[0m \u001b[0mPeriodIndex\u001b[0m\u001b[0;34m)\u001b[0m\u001b[0;34m:\u001b[0m\u001b[0;34m\u001b[0m\u001b[0m\n",
      "\u001b[0;31mValueError\u001b[0m: Length of values does not match length of index"
     ]
    }
   ],
   "source": [
    "data[\"estatura cal\"] = estatura_calculada\n",
    "data[\"estatura error\"] = estatura_error"
   ]
  },
  {
   "cell_type": "code",
   "execution_count": null,
   "metadata": {
    "collapsed": false
   },
   "outputs": [],
   "source": [
    "np.array(cadera_calculada*100)"
   ]
  },
  {
   "cell_type": "code",
   "execution_count": null,
   "metadata": {
    "collapsed": false
   },
   "outputs": [],
   "source": [
    "data.loc[abs(data['id'])<7]"
   ]
  },
  {
   "cell_type": "code",
   "execution_count": 23,
   "metadata": {
    "collapsed": false
   },
   "outputs": [
    {
     "data": {
      "text/plain": [
       "[99.22898470336872,\n",
       " 112.09238266428292,\n",
       " 103.10997319645342,\n",
       " 101.07941945485773,\n",
       " 100.10038454043185,\n",
       " 98.75368668376345,\n",
       " 106.89189768893203,\n",
       " 95.78312460699587,\n",
       " 101.78748810895716,\n",
       " 94.49475912663506,\n",
       " 105.49722599862281,\n",
       " 99.67074648075464,\n",
       " 124.01454675358458,\n",
       " 103.12396365190244,\n",
       " 102.9510952783959,\n",
       " 99.65066763471884,\n",
       " 97.14318275959172,\n",
       " 93.73664309244396,\n",
       " 110.98113244646153,\n",
       " 117.20413120431192,\n",
       " 104.6925972744331,\n",
       " 94.16014608079941,\n",
       " 96.09246139136879,\n",
       " 98.37545750017452,\n",
       " 94.1898076550775,\n",
       " 109.7657450398713,\n",
       " 103.74583824166751,\n",
       " 112.54842087135255,\n",
       " 98.6040992337247,\n",
       " 101.95230827654436,\n",
       " 95.66497075495471,\n",
       " 94.01910572697612,\n",
       " 382.2195684577675,\n",
       " 97.47225658291454,\n",
       " 102.91258068362869,\n",
       " 141.40763344807675,\n",
       " 93.3264503451107,\n",
       " 99.3328745699544,\n",
       " 104.35788426726491,\n",
       " 97.96209226527452,\n",
       " 111.17806789649154,\n",
       " 96.59474022328412,\n",
       " 95.09216675755748,\n",
       " 100.20244421679917,\n",
       " 113.05936194321184,\n",
       " 116.18939976271336,\n",
       " 117.33751747372854,\n",
       " 92.50327158243596,\n",
       " 111.23277511233172,\n",
       " 96.99765311338842,\n",
       " 95.06451247227626,\n",
       " 97.1737169572061,\n",
       " 98.42507729397356,\n",
       " 105.42107993741404,\n",
       " 115.67294588765297,\n",
       " 125.60838306851674,\n",
       " 109.44193961527058,\n",
       " 92.2313880098493,\n",
       " 100.44765775790879,\n",
       " 108.99855997239413,\n",
       " 100.9734204011667,\n",
       " 94.80860598240494,\n",
       " 136.406420537259,\n",
       " 98.5880782730518,\n",
       " 114.91446772046355,\n",
       " 93.74921609945027,\n",
       " 90.57153018434745,\n",
       " 99.83886074965167,\n",
       " 92.38766243723904,\n",
       " 96.41036794952224,\n",
       " 100.21271265176233,\n",
       " 92.9143976622066,\n",
       " 97.54254954064035,\n",
       " 105.15221179458882,\n",
       " 100.60655251210852,\n",
       " 91.9902947279135,\n",
       " 107.86629910219804,\n",
       " 108.81054063928622,\n",
       " 105.73135191602334,\n",
       " 128.66131895143394,\n",
       " 100.33216110354397,\n",
       " 95.23388142118453,\n",
       " 101.76126294394065,\n",
       " 102.77580390639068,\n",
       " 90.47302802668547,\n",
       " 101.57961084335932,\n",
       " 117.37159751216466,\n",
       " 120.81081993499066,\n",
       " 94.3055150991199,\n",
       " 100.16918131724941,\n",
       " 97.10149951244327,\n",
       " 100.21656227371358,\n",
       " 134.42290615936167,\n",
       " 98.32599909121281,\n",
       " 95.25158168045257,\n",
       " 99.76643909154313,\n",
       " 103.6742007110596,\n",
       " 100.33485816155677,\n",
       " 105.39387325595216,\n",
       " 109.21144192911798,\n",
       " 133.49879196792907,\n",
       " 93.93144072398223,\n",
       " 114.01935933881285,\n",
       " 136.16493540546074,\n",
       " 104.99836898707953,\n",
       " 510.6687420695227,\n",
       " 97.89191153623162,\n",
       " 92.75254746744382,\n",
       " 96.51884650916631,\n",
       " 111.04288444694946,\n",
       " 114.35076984313959,\n",
       " 98.05991518685622,\n",
       " 106.83510436198587,\n",
       " 116.42831476974975,\n",
       " 106.21609290521863,\n",
       " 104.8192627567512,\n",
       " 98.71170493050178,\n",
       " 99.96513517092991,\n",
       " 125.90284875574476,\n",
       " 99.12333044056881,\n",
       " 103.37367502010339,\n",
       " 97.18272281428642,\n",
       " 84.53492350922538,\n",
       " 103.67139870931335,\n",
       " 101.08448372549479,\n",
       " 101.49319343157242,\n",
       " 96.9777221596111,\n",
       " 103.14537440547976,\n",
       " 100.61488224194876,\n",
       " 96.97360054658209,\n",
       " 101.12120143303393,\n",
       " 102.16371667464172,\n",
       " 90.68936680716145,\n",
       " 114.74649267793791,\n",
       " 106.23410184660437,\n",
       " 98.4090049218128,\n",
       " 111.26863632100729,\n",
       " 114.67202302560533,\n",
       " 108.293199266951,\n",
       " 91.11917238166978,\n",
       " 102.19656152916185,\n",
       " 100.99548514512237,\n",
       " 109.81420344798123,\n",
       " 118.92336075392642,\n",
       " 106.04147365733607,\n",
       " 93.71173001882151,\n",
       " 100.16333539637863,\n",
       " 95.8491100911325]"
      ]
     },
     "execution_count": 23,
     "metadata": {},
     "output_type": "execute_result"
    }
   ],
   "source": [
    "cadera_calculada"
   ]
  },
  {
   "cell_type": "code",
   "execution_count": 24,
   "metadata": {
    "collapsed": false
   },
   "outputs": [
    {
     "data": {
      "text/plain": [
       "[-1.8160152966312779,\n",
       " -0.057617335717083051,\n",
       " 4.7099731964534186,\n",
       " 6.1294194548577252,\n",
       " -7.1996154595681503,\n",
       " -3.3463133162365466,\n",
       " 1.541897688932039,\n",
       " 1.8831246069958638,\n",
       " 4.0874881089571602,\n",
       " -2.7052408733649429,\n",
       " 8.7972259986228067,\n",
       " -2.3792535192453528,\n",
       " 1.1145467535845768,\n",
       " 3.1739636519024401,\n",
       " -5.1989047216041087,\n",
       " 2.4006676347188431,\n",
       " -1.5068172404082816,\n",
       " 0.88664309244396122,\n",
       " -1.418867553538476,\n",
       " 12.554131204311915,\n",
       " 1.792597274433092,\n",
       " -1.3398539192005927,\n",
       " -2.1575386086312136,\n",
       " -0.82454249982548333,\n",
       " -0.81019234492249836,\n",
       " 11.265745039871305,\n",
       " -1.7541617583324864,\n",
       " 9.7984208713525476,\n",
       " 0.0040992337247018895,\n",
       " 2.8523082765443633,\n",
       " 2.7649707549547031,\n",
       " 1.4191057269761274,\n",
       " 285.21956845776748,\n",
       " 2.9222565829145424,\n",
       " 1.6125806836286927,\n",
       " -4.1923665519232429,\n",
       " -0.57354965488930532,\n",
       " 6.2328745699544044,\n",
       " 5.9578842672649017,\n",
       " 0.46209226527452074,\n",
       " 1.8780678964915438,\n",
       " -3.0052597767158744,\n",
       " -1.807833242442527,\n",
       " 3.2024442167991651,\n",
       " 6.9093619432118345,\n",
       " 4.6893997627133643,\n",
       " 6.3875174737285363,\n",
       " 0.25327158243595704,\n",
       " 3.8327751123317171,\n",
       " 1.2476531133884237,\n",
       " -8.2854875277237312,\n",
       " 0.97371695720609353,\n",
       " 1.7750772939735526,\n",
       " 5.671079937414035,\n",
       " 1.9229458876529719,\n",
       " 15.358383068516744,\n",
       " 1.1919396152705843,\n",
       " -1.2686119901507027,\n",
       " 0.44765775790878592,\n",
       " 9.7485599723941334,\n",
       " -1.4265795988332997,\n",
       " -2.2913940175950529,\n",
       " 1.6564205372590095,\n",
       " 1.3380782730518064,\n",
       " -6.1855322795364458,\n",
       " 1.3992160994502711,\n",
       " 7.6715301843474464,\n",
       " 3.0888607496516727,\n",
       " -6.1623375627609533,\n",
       " 1.2603679495222337,\n",
       " 0.81271265176232532,\n",
       " -6.5356023377934065,\n",
       " 2.0425495406403513,\n",
       " 2.2522117945888169,\n",
       " -4.1434474878914784,\n",
       " -5.0597052720865037,\n",
       " -0.53370089780196395,\n",
       " 3.2105406392862221,\n",
       " 2.0813519160233369,\n",
       " 0.31131895143394672,\n",
       " -3.2178388964560298,\n",
       " -0.9161185788154711,\n",
       " -2.6887370560593524,\n",
       " -9.8241960936093164,\n",
       " -1.5269719733145308,\n",
       " -0.82038915664068668,\n",
       " 1.1715975121646522,\n",
       " 11.810819934990661,\n",
       " -1.6444849008801015,\n",
       " 1.3191813172494165,\n",
       " -2.1485004875567313,\n",
       " 2.066562273713572,\n",
       " -0.82709384063832658,\n",
       " 4.3259990912128075,\n",
       " 1.451581680452577,\n",
       " 1.1164390915431284,\n",
       " 2.6742007110595978,\n",
       " 2.5348581615567696,\n",
       " 5.3438732559521611,\n",
       " -1.9385580708820243,\n",
       " -0.65120803207094013,\n",
       " 0.43144072398223443,\n",
       " 4.0193593388128477,\n",
       " 18.264935405460733,\n",
       " 0.9483689870795331,\n",
       " 403.81874206952273,\n",
       " -0.0080884637683880101,\n",
       " -0.29745253255617854,\n",
       " 0.81884650916630619,\n",
       " 4.3928844469494521,\n",
       " 7.2507698431395937,\n",
       " 2.2599151868562188,\n",
       " 3.9351043619858643,\n",
       " 6.9283147697497469,\n",
       " 4.4660929052186304,\n",
       " 4.8192627567512005,\n",
       " 2.1117049305017872,\n",
       " 2.5651351709299064,\n",
       " 3.4528487557447534,\n",
       " 2.5733304405688102,\n",
       " 3.1736750201033885,\n",
       " 1.3327228142864271,\n",
       " 0.53492350922537923,\n",
       " 1.5213987093133454,\n",
       " 3.3344837254947919,\n",
       " 0.34319343157241633,\n",
       " 5.8777221596111104,\n",
       " 4.0953744054797596,\n",
       " -0.13511775805123705,\n",
       " 1.6236005465820966,\n",
       " 1.2712014330339372,\n",
       " 4.2637166746417137,\n",
       " 2.8393668071614542,\n",
       " 1.6964926779379113,\n",
       " 3.2841018466043721,\n",
       " -2.2909950781872084,\n",
       " -0.58136367899270169,\n",
       " 8.2720230256053213,\n",
       " 6.6931992669510123,\n",
       " 3.4691723816697788,\n",
       " -1.7534384708381481,\n",
       " -4.804514854877624,\n",
       " 4.3142034479812281,\n",
       " 1.2733607539264113,\n",
       " 5.4414736573360756,\n",
       " 5.3617300188215182,\n",
       " 6.1633353963786277,\n",
       " 1.349110091132502]"
      ]
     },
     "execution_count": 24,
     "metadata": {},
     "output_type": "execute_result"
    }
   ],
   "source": [
    "cadera_error"
   ]
  },
  {
   "cell_type": "code",
   "execution_count": 21,
   "metadata": {
    "collapsed": false
   },
   "outputs": [
    {
     "data": {
      "text/plain": [
       "6.3279657914763305"
      ]
     },
     "execution_count": 21,
     "metadata": {},
     "output_type": "execute_result"
    }
   ],
   "source": [
    "np.mean(cadera_error)"
   ]
  },
  {
   "cell_type": "code",
   "execution_count": 22,
   "metadata": {
    "collapsed": false
   },
   "outputs": [
    {
     "data": {
      "text/plain": [
       "40.392196100679612"
      ]
     },
     "execution_count": 22,
     "metadata": {},
     "output_type": "execute_result"
    }
   ],
   "source": [
    "np.std(cadera_error)"
   ]
  },
  {
   "cell_type": "code",
   "execution_count": 25,
   "metadata": {
    "collapsed": true
   },
   "outputs": [],
   "source": [
    "data[\"cadera calculada\"] = cadera_calculada\n",
    "data[\"cadera error\"] = cadera_error"
   ]
  },
  {
   "cell_type": "code",
   "execution_count": 39,
   "metadata": {
    "collapsed": false
   },
   "outputs": [
    {
     "data": {
      "text/html": [
       "<div>\n",
       "<table border=\"1\" class=\"dataframe\">\n",
       "  <thead>\n",
       "    <tr style=\"text-align: right;\">\n",
       "      <th></th>\n",
       "      <th>id</th>\n",
       "      <th>sexo</th>\n",
       "      <th>peso</th>\n",
       "      <th>promedio altura</th>\n",
       "      <th>promedio cir cad</th>\n",
       "      <th>cadera calculada</th>\n",
       "      <th>cadera error</th>\n",
       "    </tr>\n",
       "  </thead>\n",
       "  <tbody>\n",
       "    <tr>\n",
       "      <th>5</th>\n",
       "      <td>6</td>\n",
       "      <td>m</td>\n",
       "      <td>79.2</td>\n",
       "      <td>170.6</td>\n",
       "      <td>107.30</td>\n",
       "      <td>100.100385</td>\n",
       "      <td>-7.199615</td>\n",
       "    </tr>\n",
       "    <tr>\n",
       "      <th>13</th>\n",
       "      <td>14</td>\n",
       "      <td>m</td>\n",
       "      <td>65.9</td>\n",
       "      <td>174.4</td>\n",
       "      <td>96.70</td>\n",
       "      <td>105.497226</td>\n",
       "      <td>8.797226</td>\n",
       "    </tr>\n",
       "    <tr>\n",
       "      <th>22</th>\n",
       "      <td>23</td>\n",
       "      <td>m</td>\n",
       "      <td>89.5</td>\n",
       "      <td>187.8</td>\n",
       "      <td>104.65</td>\n",
       "      <td>117.204131</td>\n",
       "      <td>12.554131</td>\n",
       "    </tr>\n",
       "    <tr>\n",
       "      <th>28</th>\n",
       "      <td>29</td>\n",
       "      <td>f</td>\n",
       "      <td>65.2</td>\n",
       "      <td>164.4</td>\n",
       "      <td>98.50</td>\n",
       "      <td>109.765745</td>\n",
       "      <td>11.265745</td>\n",
       "    </tr>\n",
       "    <tr>\n",
       "      <th>30</th>\n",
       "      <td>31</td>\n",
       "      <td>f</td>\n",
       "      <td>58.0</td>\n",
       "      <td>150.2</td>\n",
       "      <td>102.75</td>\n",
       "      <td>112.548421</td>\n",
       "      <td>9.798421</td>\n",
       "    </tr>\n",
       "    <tr>\n",
       "      <th>36</th>\n",
       "      <td>37</td>\n",
       "      <td>f</td>\n",
       "      <td>58.1</td>\n",
       "      <td>156.4</td>\n",
       "      <td>97.00</td>\n",
       "      <td>382.219568</td>\n",
       "      <td>285.219568</td>\n",
       "    </tr>\n",
       "    <tr>\n",
       "      <th>54</th>\n",
       "      <td>55</td>\n",
       "      <td>m</td>\n",
       "      <td>80.1</td>\n",
       "      <td>167.4</td>\n",
       "      <td>103.35</td>\n",
       "      <td>95.064512</td>\n",
       "      <td>-8.285488</td>\n",
       "    </tr>\n",
       "    <tr>\n",
       "      <th>59</th>\n",
       "      <td>60</td>\n",
       "      <td>f</td>\n",
       "      <td>79.7</td>\n",
       "      <td>163.7</td>\n",
       "      <td>110.25</td>\n",
       "      <td>125.608383</td>\n",
       "      <td>15.358383</td>\n",
       "    </tr>\n",
       "    <tr>\n",
       "      <th>63</th>\n",
       "      <td>64</td>\n",
       "      <td>f</td>\n",
       "      <td>56.7</td>\n",
       "      <td>160.4</td>\n",
       "      <td>99.25</td>\n",
       "      <td>108.998560</td>\n",
       "      <td>9.748560</td>\n",
       "    </tr>\n",
       "    <tr>\n",
       "      <th>70</th>\n",
       "      <td>71</td>\n",
       "      <td>f</td>\n",
       "      <td>45.8</td>\n",
       "      <td>154.0</td>\n",
       "      <td>82.90</td>\n",
       "      <td>90.571530</td>\n",
       "      <td>7.671530</td>\n",
       "    </tr>\n",
       "    <tr>\n",
       "      <th>88</th>\n",
       "      <td>89</td>\n",
       "      <td>f</td>\n",
       "      <td>78.0</td>\n",
       "      <td>147.5</td>\n",
       "      <td>112.60</td>\n",
       "      <td>102.775804</td>\n",
       "      <td>-9.824196</td>\n",
       "    </tr>\n",
       "    <tr>\n",
       "      <th>92</th>\n",
       "      <td>93</td>\n",
       "      <td>m</td>\n",
       "      <td>82.2</td>\n",
       "      <td>167.8</td>\n",
       "      <td>109.00</td>\n",
       "      <td>120.810820</td>\n",
       "      <td>11.810820</td>\n",
       "    </tr>\n",
       "    <tr>\n",
       "      <th>108</th>\n",
       "      <td>109</td>\n",
       "      <td>f</td>\n",
       "      <td>82.4</td>\n",
       "      <td>154.9</td>\n",
       "      <td>117.90</td>\n",
       "      <td>136.164935</td>\n",
       "      <td>18.264935</td>\n",
       "    </tr>\n",
       "    <tr>\n",
       "      <th>110</th>\n",
       "      <td>111</td>\n",
       "      <td>f</td>\n",
       "      <td>82.4</td>\n",
       "      <td>157.2</td>\n",
       "      <td>106.85</td>\n",
       "      <td>510.668742</td>\n",
       "      <td>403.818742</td>\n",
       "    </tr>\n",
       "    <tr>\n",
       "      <th>115</th>\n",
       "      <td>116</td>\n",
       "      <td>m</td>\n",
       "      <td>89.1</td>\n",
       "      <td>169.6</td>\n",
       "      <td>107.10</td>\n",
       "      <td>114.350770</td>\n",
       "      <td>7.250770</td>\n",
       "    </tr>\n",
       "    <tr>\n",
       "      <th>142</th>\n",
       "      <td>143</td>\n",
       "      <td>f</td>\n",
       "      <td>71.1</td>\n",
       "      <td>154.2</td>\n",
       "      <td>106.40</td>\n",
       "      <td>114.672023</td>\n",
       "      <td>8.272023</td>\n",
       "    </tr>\n",
       "  </tbody>\n",
       "</table>\n",
       "</div>"
      ],
      "text/plain": [
       "      id sexo  peso  promedio altura  promedio cir cad  cadera calculada  \\\n",
       "5      6    m  79.2            170.6            107.30        100.100385   \n",
       "13    14    m  65.9            174.4             96.70        105.497226   \n",
       "22    23    m  89.5            187.8            104.65        117.204131   \n",
       "28    29    f  65.2            164.4             98.50        109.765745   \n",
       "30    31    f  58.0            150.2            102.75        112.548421   \n",
       "36    37    f  58.1            156.4             97.00        382.219568   \n",
       "54    55    m  80.1            167.4            103.35         95.064512   \n",
       "59    60    f  79.7            163.7            110.25        125.608383   \n",
       "63    64    f  56.7            160.4             99.25        108.998560   \n",
       "70    71    f  45.8            154.0             82.90         90.571530   \n",
       "88    89    f  78.0            147.5            112.60        102.775804   \n",
       "92    93    m  82.2            167.8            109.00        120.810820   \n",
       "108  109    f  82.4            154.9            117.90        136.164935   \n",
       "110  111    f  82.4            157.2            106.85        510.668742   \n",
       "115  116    m  89.1            169.6            107.10        114.350770   \n",
       "142  143    f  71.1            154.2            106.40        114.672023   \n",
       "\n",
       "     cadera error  \n",
       "5       -7.199615  \n",
       "13       8.797226  \n",
       "22      12.554131  \n",
       "28      11.265745  \n",
       "30       9.798421  \n",
       "36     285.219568  \n",
       "54      -8.285488  \n",
       "59      15.358383  \n",
       "63       9.748560  \n",
       "70       7.671530  \n",
       "88      -9.824196  \n",
       "92      11.810820  \n",
       "108     18.264935  \n",
       "110    403.818742  \n",
       "115      7.250770  \n",
       "142      8.272023  "
      ]
     },
     "execution_count": 39,
     "metadata": {},
     "output_type": "execute_result"
    }
   ],
   "source": [
    "data.loc[abs(data['cadera error'])>7]"
   ]
  },
  {
   "cell_type": "code",
   "execution_count": 32,
   "metadata": {
    "collapsed": false
   },
   "outputs": [],
   "source": [
    "data.to_csv(\"primeros_cacl_1.csv\")"
   ]
  },
  {
   "cell_type": "code",
   "execution_count": 37,
   "metadata": {
    "collapsed": true
   },
   "outputs": [],
   "source": [
    "def reject_outliers(data, m = 2.):\n",
    "    d = np.abs(data - np.median(data))\n",
    "    mdev = np.median(d)\n",
    "    s = d/mdev if mdev else 0.\n",
    "    print s\n",
    "    return data[s<m]"
   ]
  },
  {
   "cell_type": "code",
   "execution_count": null,
   "metadata": {
    "collapsed": true
   },
   "outputs": [],
   "source": []
  },
  {
   "cell_type": "code",
   "execution_count": null,
   "metadata": {
    "collapsed": false
   },
   "outputs": [],
   "source": []
  },
  {
   "cell_type": "code",
   "execution_count": null,
   "metadata": {
    "collapsed": true
   },
   "outputs": [],
   "source": []
  }
 ],
 "metadata": {
  "kernelspec": {
   "display_name": "Python 2",
   "language": "python",
   "name": "python2"
  },
  "language_info": {
   "codemirror_mode": {
    "name": "ipython",
    "version": 2
   },
   "file_extension": ".py",
   "mimetype": "text/x-python",
   "name": "python",
   "nbconvert_exporter": "python",
   "pygments_lexer": "ipython2",
   "version": "2.7.9"
  }
 },
 "nbformat": 4,
 "nbformat_minor": 2
}
