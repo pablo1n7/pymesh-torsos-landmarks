{
 "cells": [
  {
   "cell_type": "code",
   "execution_count": 28,
   "metadata": {
    "collapsed": false,
    "deletable": true,
    "editable": true,
    "scrolled": false
   },
   "outputs": [
    {
     "name": "stdout",
     "output_type": "stream",
     "text": [
      "./out/torsos_smooth/model_mesh_005.ply\n",
      "./out/torsos_smooth/model_mesh_033.ply\n",
      "./out/torsos_smooth/model_mesh_048.ply\n",
      "./out/torsos_smooth/model_mesh_051.ply\n",
      "./out/torsos_smooth/model_mesh_114.ply\n",
      "./out/torsos_smooth/model_mesh_137.ply\n",
      "./out/torsos_smooth/model_mesh_138.ply\n",
      "./out/torsos_smooth/model_mesh_145.ply\n"
     ]
    }
   ],
   "source": [
    "import pymesh\n",
    "import numpy as np\n",
    "import pandas as pd\n",
    "import math\n",
    "import glob\n",
    "import re\n",
    "\n",
    "fs_mesh = sorted(glob.glob(\"./out/torsos_smooth/*.ply\"))\n",
    "\n",
    "#alpha = -(math.pi /8)\n",
    "#alpha = (math.pi /12)\n",
    "#alpha = math.radians(5)\n",
    "alpha = math.radians(3)\n",
    "matrix = [[1,0,0,0],[0,math.cos(alpha),-math.sin(alpha),0],[0,math.sin(alpha),math.cos(alpha),0],[0,0,0,1]] \n",
    "ids = [\"025\",\"026\",\"061\",\"065\",\"067\",\"070\",\"073\",\"078\",\"079\",\"080\",\"081\",\"085\",\"086\",\"090\",\"097\",\"094\"]\n",
    "ids = [\"002\",\"034\",\"064\",\"071\",\"087\",\"088\",\"092\",\"098\"]\n",
    "ids = [\"005\",\"033\",\"048\",\"051\",\"114\",\"137\",\"138\",\"145\"]\n",
    "for mesh_f in fs_mesh[:]:\n",
    "    #print re.findall(r'\\d+', mesh_f)[0]\n",
    "    if(re.findall(r'\\d+', mesh_f)[0] in ids):\n",
    "        print mesh_f   \n",
    "        mesh = pymesh.load_mesh(mesh_f)\n",
    "        for i,v in enumerate(mesh.vertices_ref):\n",
    "            mesh.vertices_ref[i] = np.dot(matrix,[v[0],v[1],v[2],1])[:-1] \n",
    "            #c.vertices_ref[i] = np.dot(matrix,v)[:-1] \n",
    "            #new_mesh = pymesh.boolean(new_mesh, c , operation=\"union\",engine=\"auto\")\n",
    "        pymesh.save_mesh(\"./out/torsos_smooth_rot/{}\".format(mesh_f.split(\"/\")[-1]), mesh)\n",
    "\n"
   ]
  },
  {
   "cell_type": "code",
   "execution_count": 10,
   "metadata": {
    "collapsed": false,
    "deletable": true,
    "editable": true
   },
   "outputs": [
    {
     "data": {
      "text/plain": [
       "['42', '32', '30']"
      ]
     },
     "execution_count": 10,
     "metadata": {},
     "output_type": "execute_result"
    }
   ],
   "source": [
    "import re\n",
    "re.findall(r'\\d+', 'hello 42 I\\'m a 32 string 30')"
   ]
  },
  {
   "cell_type": "code",
   "execution_count": 16,
   "metadata": {
    "collapsed": false
   },
   "outputs": [
    {
     "data": {
      "text/plain": [
       "False"
      ]
     },
     "execution_count": 16,
     "metadata": {},
     "output_type": "execute_result"
    }
   ],
   "source": [
    "re.findall(r'\\d+', mesh_f) in [\"025\",\"026\",\"061\",\"065\",\"067\",\"070\",\"073\",\"078\",\"079\",\"080\",\"081\",\"085\",\"086\",\"090\",\"097\",\"094\"]"
   ]
  },
  {
   "cell_type": "code",
   "execution_count": null,
   "metadata": {
    "collapsed": false
   },
   "outputs": [],
   "source": [
    "\n",
    "\n"
   ]
  }
 ],
 "metadata": {
  "kernelspec": {
   "display_name": "Python 2",
   "language": "python",
   "name": "python2"
  },
  "language_info": {
   "codemirror_mode": {
    "name": "ipython",
    "version": 2
   },
   "file_extension": ".py",
   "mimetype": "text/x-python",
   "name": "python",
   "nbconvert_exporter": "python",
   "pygments_lexer": "ipython2",
   "version": "2.7.9"
  }
 },
 "nbformat": 4,
 "nbformat_minor": 2
}
