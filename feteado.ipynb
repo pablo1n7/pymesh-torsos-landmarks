{
 "cells": [
  {
   "cell_type": "code",
   "execution_count": 1,
   "metadata": {
    "collapsed": false
   },
   "outputs": [],
   "source": [
    "import pymesh\n",
    "import numpy as np\n",
    "import pandas as pd\n",
    "import math"
   ]
  },
  {
   "cell_type": "code",
   "execution_count": 2,
   "metadata": {
    "collapsed": false
   },
   "outputs": [],
   "source": [
    "landmarks = pd.read_csv(\"../data_artificial_cites/landmarks_reales/model_mesh_002.pts\",header=None,index_col=[0],skiprows=range(2),delimiter=r\"\\s+\")"
   ]
  },
  {
   "cell_type": "code",
   "execution_count": 3,
   "metadata": {
    "collapsed": false
   },
   "outputs": [],
   "source": [
    "ls0 = landmarks.iloc[0].tolist()\n",
    "ls1 = landmarks.iloc[4].tolist()\n",
    "ls2 = landmarks.iloc[9].tolist()\n",
    "ls3 = landmarks.iloc[10].tolist()\n",
    "head = landmarks.iloc[14].tolist()\n",
    "foot_left = landmarks.iloc[7].tolist()\n",
    "foot_right = landmarks.iloc[6].tolist()"
   ]
  },
  {
   "cell_type": "code",
   "execution_count": 4,
   "metadata": {
    "collapsed": false
   },
   "outputs": [],
   "source": [
    "landmarks_torzo = np.array([ls0,ls1,ls2,ls3])\n",
    "centroide = landmarks_torzo.mean(0)"
   ]
  },
  {
   "cell_type": "code",
   "execution_count": 5,
   "metadata": {
    "collapsed": true
   },
   "outputs": [],
   "source": [
    "mesh = pymesh.load_mesh(\"../data_artificial_cites/reales/model_mesh_002.ply\")"
   ]
  },
  {
   "cell_type": "code",
   "execution_count": 6,
   "metadata": {
    "collapsed": false
   },
   "outputs": [],
   "source": [
    "b = pymesh.meshutils.generate_icosphere(0.50,centroide)"
   ]
  },
  {
   "cell_type": "code",
   "execution_count": 7,
   "metadata": {
    "collapsed": false
   },
   "outputs": [],
   "source": [
    "output_mesh = pymesh.boolean(b, mesh, operation=\"intersection\",engine=\"auto\")"
   ]
  },
  {
   "cell_type": "code",
   "execution_count": 8,
   "metadata": {
    "collapsed": false
   },
   "outputs": [],
   "source": [
    "pymesh.save_mesh(\"out/torso.ply\", output_mesh)\n",
    "#pymesh.save_mesh(\"person.ply\", mesh)"
   ]
  }
 ],
 "metadata": {
  "kernelspec": {
   "display_name": "Python 2",
   "language": "python",
   "name": "python2"
  },
  "language_info": {
   "codemirror_mode": {
    "name": "ipython",
    "version": 2
   },
   "file_extension": ".py",
   "mimetype": "text/x-python",
   "name": "python",
   "nbconvert_exporter": "python",
   "pygments_lexer": "ipython2",
   "version": "2.7.9"
  }
 },
 "nbformat": 4,
 "nbformat_minor": 2
}
