{
 "cells": [
  {
   "cell_type": "code",
   "execution_count": 1,
   "metadata": {
    "collapsed": false
   },
   "outputs": [],
   "source": [
    "import pymesh\n",
    "import numpy as np\n",
    "import pandas as pd\n",
    "import matplotlib.pyplot as plt\n",
    "from mpl_toolkits.mplot3d import Axes3D\n",
    "import math"
   ]
  },
  {
   "cell_type": "code",
   "execution_count": 2,
   "metadata": {
    "collapsed": false
   },
   "outputs": [],
   "source": [
    "landmarks = pd.read_csv(\"../data_artificial_cites/landmarks_reales/model_mesh_001.pts\",header=None,index_col=[0],skiprows=range(2),delimiter=r\"\\s+\")\n",
    "output_mesh = pymesh.load_mesh(\"out/torsos/model_mesh_001.ply\")"
   ]
  },
  {
   "cell_type": "code",
   "execution_count": 3,
   "metadata": {
    "collapsed": false
   },
   "outputs": [],
   "source": [
    "ls0 = landmarks.iloc[0].tolist()\n",
    "ls1 = landmarks.iloc[4].tolist()\n",
    "ls2 = landmarks.iloc[9].tolist()\n",
    "ls3 = landmarks.iloc[10].tolist()\n",
    "head = landmarks.iloc[14].tolist()\n",
    "foot_left = landmarks.iloc[8].tolist()\n",
    "foot_right = landmarks.iloc[5].tolist()\n",
    "landmarks_torzo = np.array([ls0,ls1,ls2,ls3])\n",
    "centroide = landmarks_torzo.mean(0)\n",
    "center_foot = np.array([foot_left,foot_right]).mean(0)\n",
    "center_foot_rodilla = np.array([landmarks.iloc[7].tolist(),landmarks.iloc[6].tolist()]).mean(0)"
   ]
  },
  {
   "cell_type": "code",
   "execution_count": 4,
   "metadata": {
    "collapsed": false
   },
   "outputs": [],
   "source": [
    "def distance3D(a, b):\n",
    "    return math.sqrt((a[0]-b[0])**2+(a[1]-b[1])**2+(a[2]-b[2])**2)\n",
    "\n",
    "def distance2D(a, b):\n",
    "    return math.sqrt( ((b[0]-a[0])**2)  + ((b[1]-a[1])**2) )\n",
    "\n",
    "def angle(a,b):\n",
    "    uv = a[0]*b[0] + a[1]*b[1]+ a[2]*b[2]\n",
    "    norma_uv = math.sqrt((a[0]**2+a[1]**2+a[2]**2)) * math.sqrt((b[0]**2+b[1]**2+b[2]**2 ))\n",
    "    return math.acos(uv/norma_uv)"
   ]
  },
  {
   "cell_type": "code",
   "execution_count": 5,
   "metadata": {
    "collapsed": false
   },
   "outputs": [
    {
     "data": {
      "text/plain": [
       "25518"
      ]
     },
     "execution_count": 5,
     "metadata": {},
     "output_type": "execute_result"
    }
   ],
   "source": [
    "semi_landmark = landmarks_torzo[1:3].mean(0)\n",
    "distancias = []\n",
    "for v in output_mesh.vertices:\n",
    "    distancias.append(distance3D(semi_landmark,v))\n",
    "distancias = np.array(distancias)\n",
    "ver_semi_landmark = output_mesh.vertices[distancias.argmin()]\n",
    "distancias.argmin()"
   ]
  },
  {
   "cell_type": "code",
   "execution_count": 6,
   "metadata": {
    "collapsed": false
   },
   "outputs": [
    {
     "data": {
      "text/plain": [
       "-0.2704475286051009"
      ]
     },
     "execution_count": 6,
     "metadata": {},
     "output_type": "execute_result"
    }
   ],
   "source": [
    "xdot = (head[0]*center_foot[0] + head[1]*center_foot[1] + head[2]*center_foot[2])\n",
    "norma = math.sqrt(head[0]**2+head[1]**2+head[2]**2) * math.sqrt(center_foot[0]**2+center_foot[1]**2+center_foot[2]**2)\n",
    "angle_head = (math.cos(xdot/norma) ** -1)\n",
    "angle_head_r = math.radians(90 - math.degrees(angle_head))\n",
    "angle_head_r"
   ]
  },
  {
   "cell_type": "code",
   "execution_count": 7,
   "metadata": {
    "collapsed": false
   },
   "outputs": [],
   "source": [
    "new_mesh = pymesh.meshutils.generate_icosphere(0.01,ver_semi_landmark)\n",
    "q = pymesh.misc.Quaternion(quat=[1,-angle_head_r, 0, 0])\n",
    "circle_points = []\n",
    "for i in range(100):\n",
    "    distance_points = 0.3\n",
    "    angleY = (i)\n",
    "    angleZ = 0\n",
    "    x= ver_semi_landmark[0] + distance_points * math.cos (angleZ) * math.sin(angleY)\n",
    "    y= ver_semi_landmark[1] + distance_points * math.sin (angleZ)\n",
    "    z= ver_semi_landmark[2] + distance_points * math.cos (angleZ) * math.cos(angleY)\n",
    "    v_v = [x,y,z] \n",
    "    v = q.rotate(v_v)\n",
    "    v[2] = v[2] /6.5\n",
    "    v[1] = v[1] /6.5\n",
    "    v[0] = v[0] /5.5\n",
    "    circle_points.append(v)\n",
    "  \n",
    "    temp = pymesh.meshutils.generate_icosphere(0.01,v)\n",
    "    new_mesh = pymesh.boolean(new_mesh, temp , operation=\"union\",engine=\"auto\")\n",
    "pymesh.save_mesh(\"out/circle.ply\", new_mesh)"
   ]
  },
  {
   "cell_type": "code",
   "execution_count": 8,
   "metadata": {
    "collapsed": false,
    "scrolled": true
   },
   "outputs": [
    {
     "data": {
      "text/plain": [
       "(100, 3)"
      ]
     },
     "execution_count": 8,
     "metadata": {},
     "output_type": "execute_result"
    }
   ],
   "source": [
    "circle_points = np.array(circle_points)\n",
    "circle_points.shape"
   ]
  },
  {
   "cell_type": "code",
   "execution_count": 9,
   "metadata": {
    "collapsed": false
   },
   "outputs": [],
   "source": [
    "vertexs = []\n",
    "cp = circle_points[0]\n",
    "for cp in circle_points:\n",
    "    distancias_circle = []\n",
    "    for v in output_mesh.vertices:\n",
    "        distancias_circle.append(distance3D(cp,v))\n",
    "    vertexs.append(output_mesh.vertices[np.array(distancias_circle).argmin()])"
   ]
  },
  {
   "cell_type": "code",
   "execution_count": 10,
   "metadata": {
    "collapsed": false
   },
   "outputs": [],
   "source": [
    "new_mesh = pymesh.meshutils.generate_icosphere(0.01,vertexs[0])\n",
    "for v in vertexs[1:]:\n",
    "    temp = pymesh.meshutils.generate_icosphere(0.01,v)\n",
    "    new_mesh = pymesh.boolean(new_mesh, temp , operation=\"union\",engine=\"auto\")\n",
    "pymesh.save_mesh(\"out/cinta.ply\", new_mesh)"
   ]
  },
  {
   "cell_type": "code",
   "execution_count": 11,
   "metadata": {
    "collapsed": false
   },
   "outputs": [],
   "source": [
    "a = np.array(vertexs)"
   ]
  },
  {
   "cell_type": "code",
   "execution_count": 12,
   "metadata": {
    "collapsed": false
   },
   "outputs": [
    {
     "data": {
      "text/plain": [
       "(100, 3)"
      ]
     },
     "execution_count": 12,
     "metadata": {},
     "output_type": "execute_result"
    }
   ],
   "source": [
    "a.shape"
   ]
  },
  {
   "cell_type": "code",
   "execution_count": 13,
   "metadata": {
    "collapsed": false
   },
   "outputs": [],
   "source": [
    "a1 = np.unique(a)"
   ]
  },
  {
   "cell_type": "code",
   "execution_count": null,
   "metadata": {
    "collapsed": false,
    "scrolled": true
   },
   "outputs": [],
   "source": []
  },
  {
   "cell_type": "code",
   "execution_count": 14,
   "metadata": {
    "collapsed": true
   },
   "outputs": [],
   "source": [
    "a1 = np.unique(a)\n",
    "new_array = [tuple(row) for row in a]\n",
    "uniques = np.unique(new_array)"
   ]
  },
  {
   "cell_type": "code",
   "execution_count": 15,
   "metadata": {
    "collapsed": false
   },
   "outputs": [
    {
     "data": {
      "text/plain": [
       "1.3483984519304606"
      ]
     },
     "execution_count": 15,
     "metadata": {},
     "output_type": "execute_result"
    }
   ],
   "source": [
    "aux = 0\n",
    "for i,v in enumerate(uniques[:-1]):\n",
    "    aux = aux + np.min(map(lambda x: distance3D(x,v),uniques[i+1:]))\n",
    "aux"
   ]
  },
  {
   "cell_type": "code",
   "execution_count": 16,
   "metadata": {
    "collapsed": false
   },
   "outputs": [
    {
     "data": {
      "text/plain": [
       "(80, 3)"
      ]
     },
     "execution_count": 16,
     "metadata": {},
     "output_type": "execute_result"
    }
   ],
   "source": [
    "uniques.shape"
   ]
  },
  {
   "cell_type": "code",
   "execution_count": null,
   "metadata": {
    "collapsed": false
   },
   "outputs": [],
   "source": []
  },
  {
   "cell_type": "code",
   "execution_count": 17,
   "metadata": {
    "collapsed": false
   },
   "outputs": [
    {
     "data": {
      "text/plain": [
       "0.91274279550245863"
      ]
     },
     "execution_count": 17,
     "metadata": {},
     "output_type": "execute_result"
    }
   ],
   "source": [
    "a1 = np.unique(np.delete(vertexs, [1], axis=1))\n",
    "new_array = [tuple(row) for row in a]\n",
    "uniques = np.unique(new_array)\n",
    "aux = 0\n",
    "for i,v in enumerate(uniques[:-1]):\n",
    "    aux = aux + np.min(map(lambda x: distance2D(x,v),uniques[i+1:]))\n",
    "aux"
   ]
  },
  {
   "cell_type": "code",
   "execution_count": null,
   "metadata": {
    "collapsed": false
   },
   "outputs": [],
   "source": []
  },
  {
   "cell_type": "code",
   "execution_count": 18,
   "metadata": {
    "collapsed": false,
    "scrolled": true
   },
   "outputs": [
    {
     "data": {
      "image/png": "[encoded data removed]",
      "text/plain": [
       "<matplotlib.figure.Figure at 0x7fec6c1bd8d0>"
      ]
     },
     "metadata": {},
     "output_type": "display_data"
    }
   ],
   "source": [
    "import matplotlib.pyplot as plt\n",
    "plt.plot(np.array(vertexs)[:,0], np.array(vertexs)[:,2], 'g-',lw=2)\n",
    "#plt.axis([0, 6, 0, 20])\n",
    "plt.axis('equal')\n",
    "plt.show()"
   ]
  },
  {
   "cell_type": "code",
   "execution_count": 19,
   "metadata": {
    "collapsed": true
   },
   "outputs": [],
   "source": [
    "import scipy"
   ]
  },
  {
   "cell_type": "code",
   "execution_count": 20,
   "metadata": {
    "collapsed": false
   },
   "outputs": [
    {
     "data": {
      "text/plain": [
       "'0.18.1'"
      ]
     },
     "execution_count": 20,
     "metadata": {},
     "output_type": "execute_result"
    }
   ],
   "source": [
    "scipy.__version__"
   ]
  },
  {
   "cell_type": "code",
   "execution_count": 21,
   "metadata": {
    "collapsed": false
   },
   "outputs": [],
   "source": [
    "#apt-get install gfortran -y\n",
    "#pip install -U scipy"
   ]
  },
  {
   "cell_type": "code",
   "execution_count": 22,
   "metadata": {
    "collapsed": false
   },
   "outputs": [],
   "source": [
    "vertexs_2d = np.delete(vertexs, [1], axis=1)"
   ]
  },
  {
   "cell_type": "code",
   "execution_count": null,
   "metadata": {
    "collapsed": false
   },
   "outputs": [],
   "source": []
  },
  {
   "cell_type": "code",
   "execution_count": 23,
   "metadata": {
    "collapsed": false
   },
   "outputs": [
    {
     "data": {
      "image/png": "[encoded data removed]",
      "text/plain": [
       "<matplotlib.figure.Figure at 0x7fec6bb2bfd0>"
      ]
     },
     "metadata": {},
     "output_type": "display_data"
    }
   ],
   "source": [
    "from scipy.spatial import ConvexHull\n",
    "#import matplotlib.pyplot as plt\n",
    "#points = np.random.rand(30, 2)   # 30 random points in 2-D\n",
    "l = np.array(vertexs_2d)\n",
    "hull = ConvexHull(l,incremental=False)\n",
    "#plt.plot(points[:,0], points[:,1], 'o')\n",
    "# for simplex in hull.simplices:\n",
    "#     #print(simplex)\n",
    "#     plt.plot(l[simplex, 0], l[simplex, 1], 'k-')\n",
    "\n",
    "#hull.add_points(l)\n",
    "#hull.close()\n",
    "\n",
    "plt.plot(l[hull.vertices,0], l[hull.vertices,1], '--')\n",
    "#plt.plot(l[:,0], l[:,1], 'b.', lw=2)\n",
    "plt.show()"
   ]
  },
  {
   "cell_type": "code",
   "execution_count": null,
   "metadata": {
    "collapsed": false
   },
   "outputs": [],
   "source": []
  },
  {
   "cell_type": "code",
   "execution_count": null,
   "metadata": {
    "collapsed": false
   },
   "outputs": [],
   "source": []
  },
  {
   "cell_type": "code",
   "execution_count": 24,
   "metadata": {
    "collapsed": false
   },
   "outputs": [],
   "source": [
    "from scipy.spatial import distance"
   ]
  },
  {
   "cell_type": "code",
   "execution_count": 25,
   "metadata": {
    "collapsed": false
   },
   "outputs": [
    {
     "data": {
      "text/plain": [
       "array([ 1.60664674])"
      ]
     },
     "execution_count": 25,
     "metadata": {},
     "output_type": "execute_result"
    }
   ],
   "source": [
    "distance.pdist(np.array([head,center_foot_rodilla]))"
   ]
  },
  {
   "cell_type": "code",
   "execution_count": 26,
   "metadata": {
    "collapsed": false
   },
   "outputs": [
    {
     "data": {
      "text/plain": [
       "1.606646738832031"
      ]
     },
     "execution_count": 26,
     "metadata": {},
     "output_type": "execute_result"
    }
   ],
   "source": [
    "distance3D(head,center_foot_rodilla)"
   ]
  },
  {
   "cell_type": "code",
   "execution_count": 28,
   "metadata": {
    "collapsed": false
   },
   "outputs": [
    {
     "data": {
      "text/plain": [
       "0.8915739734766357"
      ]
     },
     "execution_count": 28,
     "metadata": {},
     "output_type": "execute_result"
    }
   ],
   "source": [
    "aux = 0\n",
    "for i,v in enumerate(vertexs_2d[hull.vertices][:-1]):\n",
    "    aux = aux + distance2D(v,vertexs_2d[hull.vertices][i+1])\n",
    "aux = aux + distance2D(vertexs_2d[hull.vertices][0],vertexs_2d[hull.vertices][-1])\n",
    "aux"
   ]
  },
  {
   "cell_type": "code",
   "execution_count": null,
   "metadata": {
    "collapsed": true
   },
   "outputs": [],
   "source": [
    "new_mesh = pymesh.meshutils.generate_icosphere(0.01,center_foot_rodilla)\n",
    "pymesh.save_mesh(\"out/centro_pies.ply\", new_mesh)"
   ]
  }
 ],
 "metadata": {
  "kernelspec": {
   "display_name": "Python 2",
   "language": "python",
   "name": "python2"
  },
  "language_info": {
   "codemirror_mode": {
    "name": "ipython",
    "version": 2
   },
   "file_extension": ".py",
   "mimetype": "text/x-python",
   "name": "python",
   "nbconvert_exporter": "python",
   "pygments_lexer": "ipython2",
   "version": "2.7.9"
  }
 },
 "nbformat": 4,
 "nbformat_minor": 2
}
