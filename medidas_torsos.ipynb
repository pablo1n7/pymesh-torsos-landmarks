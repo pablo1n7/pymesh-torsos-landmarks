{
 "cells": [
  {
   "cell_type": "code",
   "execution_count": 1,
   "metadata": {
    "collapsed": false
   },
   "outputs": [],
   "source": [
    "import pymesh\n",
    "import numpy as np\n",
    "import pandas as pd\n",
    "import matplotlib.pyplot as plt\n",
    "from mpl_toolkits.mplot3d import Axes3D\n",
    "import math"
   ]
  },
  {
   "cell_type": "code",
   "execution_count": 2,
   "metadata": {
    "collapsed": false
   },
   "outputs": [],
   "source": [
    "landmarks = pd.read_csv(\"../data_artificial_cites/landmarks_reales/model_mesh_002.pts\",header=None,index_col=[0],skiprows=range(2),delimiter=r\"\\s+\")"
   ]
  },
  {
   "cell_type": "code",
   "execution_count": 3,
   "metadata": {
    "collapsed": false
   },
   "outputs": [],
   "source": [
    "ls0 = landmarks.iloc[0].tolist()\n",
    "ls1 = landmarks.iloc[4].tolist()\n",
    "ls2 = landmarks.iloc[9].tolist()\n",
    "ls3 = landmarks.iloc[10].tolist()\n",
    "head = landmarks.iloc[14].tolist()\n",
    "foot_left = landmarks.iloc[7].tolist()\n",
    "foot_right = landmarks.iloc[6].tolist()"
   ]
  },
  {
   "cell_type": "code",
   "execution_count": 4,
   "metadata": {
    "collapsed": false
   },
   "outputs": [],
   "source": [
    "landmarks_torzo = np.array([ls0,ls1,ls2,ls3])\n",
    "centroide = landmarks_torzo.mean(0)"
   ]
  },
  {
   "cell_type": "code",
   "execution_count": 5,
   "metadata": {
    "collapsed": true
   },
   "outputs": [],
   "source": [
    "output_mesh = pymesh.load_mesh(\"out/torso.ply\")"
   ]
  },
  {
   "cell_type": "code",
   "execution_count": 6,
   "metadata": {
    "collapsed": false
   },
   "outputs": [],
   "source": [
    "def distance3D(a, b):\n",
    "    return math.sqrt((a[0]-b[0])**2+(a[1]-b[1])**2+(a[2]-b[2])**2)"
   ]
  },
  {
   "cell_type": "code",
   "execution_count": 7,
   "metadata": {
    "collapsed": false
   },
   "outputs": [
    {
     "data": {
      "text/plain": [
       "18351"
      ]
     },
     "execution_count": 7,
     "metadata": {},
     "output_type": "execute_result"
    }
   ],
   "source": [
    "semi_landmark = landmarks_torzo[1:3].mean(0)\n",
    "distancias = []\n",
    "for v in output_mesh.vertices:\n",
    "    distancias.append(distance3D(semi_landmark,v))\n",
    "distancias = np.array(distancias)\n",
    "ver_semi_landmark = output_mesh.vertices[distancias.argmin()]\n",
    "distancias.argmin()"
   ]
  },
  {
   "cell_type": "code",
   "execution_count": 8,
   "metadata": {
    "collapsed": true
   },
   "outputs": [],
   "source": [
    "def angle(a,b):\n",
    "    uv = a[0]*b[0] + a[1]*b[1]+ a[2]*b[2]\n",
    "    norma_uv = math.sqrt((a[0]**2+a[1]**2+a[2]**2)) * math.sqrt((b[0]**2+b[1]**2+b[2]**2 ))\n",
    "    return math.acos(uv/norma_uv)"
   ]
  },
  {
   "cell_type": "code",
   "execution_count": 9,
   "metadata": {
    "collapsed": false
   },
   "outputs": [],
   "source": [
    "new_mesh = pymesh.meshutils.generate_icosphere(0.01,ver_semi_landmark)\n",
    "q = pymesh.misc.Quaternion(quat=[1,0.28, 0, 0])\n",
    "#ver_semi_landmark = [0,0,0]\n",
    "circle_points = []\n",
    "for i in range(30):\n",
    "    distance_points = 0.3\n",
    "    #angleY = 0.0174533\n",
    "    angleY = (i)\n",
    "    angleZ = 0\n",
    "    x= ver_semi_landmark[0] + distance_points * math.cos (angleZ) * math.sin(angleY)\n",
    "    y= ver_semi_landmark[1] + distance_points * math.sin (angleZ)\n",
    "    z= ver_semi_landmark[2] + distance_points * math.cos (angleZ) * math.cos(angleY)\n",
    "    #z= ver_semi_landmark[2]\n",
    "    #v = q.rotate([x,y,z])\n",
    "    v_v = [x,y,z] \n",
    "    \n",
    "#     distancias_circle=[]\n",
    "#     for v_m in output_mesh.vertices:\n",
    "#         distancias_circle.append(distance(v,v_m))\n",
    "#     v_v = output_mesh.vertices[np.array(distancias_circle).argmin()]\n",
    "#     q.conjugate()\n",
    "    #v = q.rotate(v_v)\n",
    "    v = q.rotate(v_v)\n",
    "    v[2] = v[2] /5\n",
    "    v[1] = v[1] /5\n",
    "    v[0] = v[0] /4.9\n",
    "    circle_points.append(v)\n",
    "    #temp = pymesh.meshutils.generate_icosphere(0.01,v)\n",
    "    #new_mesh = pymesh.boolean(new_mesh, temp , operation=\"union\",engine=\"auto\")\n",
    "    temp = pymesh.meshutils.generate_icosphere(0.01,v)\n",
    "    new_mesh = pymesh.boolean(new_mesh, temp , operation=\"union\",engine=\"auto\")\n",
    "pymesh.save_mesh(\"out/circle.ply\", new_mesh)"
   ]
  },
  {
   "cell_type": "code",
   "execution_count": 10,
   "metadata": {
    "collapsed": false
   },
   "outputs": [
    {
     "data": {
      "text/plain": [
       "(30, 3)"
      ]
     },
     "execution_count": 10,
     "metadata": {},
     "output_type": "execute_result"
    }
   ],
   "source": [
    "circle_points = np.array(circle_points)\n",
    "circle_points.shape"
   ]
  },
  {
   "cell_type": "code",
   "execution_count": 11,
   "metadata": {
    "collapsed": false
   },
   "outputs": [],
   "source": [
    "vertexs = []\n",
    "cp = circle_points[0]\n",
    "for cp in circle_points:\n",
    "    distancias_circle = []\n",
    "    for v in output_mesh.vertices:\n",
    "        distancias_circle.append(distance3D(cp,v))\n",
    "    vertexs.append(output_mesh.vertices[np.array(distancias_circle).argmin()])"
   ]
  },
  {
   "cell_type": "code",
   "execution_count": 12,
   "metadata": {
    "collapsed": false
   },
   "outputs": [],
   "source": [
    "new_mesh = pymesh.meshutils.generate_icosphere(0.01,vertexs[0])\n",
    "for v in vertexs[1:]:\n",
    "    temp = pymesh.meshutils.generate_icosphere(0.01,v)\n",
    "    new_mesh = pymesh.boolean(new_mesh, temp , operation=\"union\",engine=\"auto\")\n",
    "pymesh.save_mesh(\"out/cinta.ply\", new_mesh)"
   ]
  },
  {
   "cell_type": "code",
   "execution_count": 13,
   "metadata": {
    "collapsed": false
   },
   "outputs": [
    {
     "data": {
      "text/plain": [
       "4.8512765817983832"
      ]
     },
     "execution_count": 13,
     "metadata": {},
     "output_type": "execute_result"
    }
   ],
   "source": [
    "sumatoria =[]\n",
    "for i,j in zip(vertexs,vertexs[1:]):\n",
    "    sumatoria.append(distance3D(i,j))\n",
    "sumatoria = np.array(sumatoria)\n",
    "sumatoria.sum()"
   ]
  },
  {
   "cell_type": "code",
   "execution_count": 14,
   "metadata": {
    "collapsed": false
   },
   "outputs": [],
   "source": [
    "a = np.array(vertexs)\n",
    "a1 = vertexs[0]"
   ]
  },
  {
   "cell_type": "code",
   "execution_count": 15,
   "metadata": {
    "collapsed": true
   },
   "outputs": [],
   "source": [
    "new_array = [tuple(row) for row in a]\n",
    "uniques = np.unique(new_array)"
   ]
  },
  {
   "cell_type": "code",
   "execution_count": 16,
   "metadata": {
    "collapsed": false
   },
   "outputs": [
    {
     "data": {
      "text/plain": [
       "1.2294657403880505"
      ]
     },
     "execution_count": 16,
     "metadata": {},
     "output_type": "execute_result"
    }
   ],
   "source": [
    "aux = 0\n",
    "for i,v in enumerate(uniques[:-1]):\n",
    "    aux = aux + np.min(map(lambda x: distance3D(x,v),uniques[i+1:]))\n",
    "aux"
   ]
  },
  {
   "cell_type": "code",
   "execution_count": 17,
   "metadata": {
    "collapsed": true
   },
   "outputs": [],
   "source": [
    "foot_center = np.array([foot_left,foot_right]).mean(0)"
   ]
  },
  {
   "cell_type": "code",
   "execution_count": 18,
   "metadata": {
    "collapsed": false
   },
   "outputs": [
    {
     "data": {
      "text/plain": [
       "array([ 0.01473366, -0.93171081, -0.11719008])"
      ]
     },
     "execution_count": 18,
     "metadata": {},
     "output_type": "execute_result"
    }
   ],
   "source": [
    "foot_center"
   ]
  }
 ],
 "metadata": {
  "kernelspec": {
   "display_name": "Python 2",
   "language": "python",
   "name": "python2"
  },
  "language_info": {
   "codemirror_mode": {
    "name": "ipython",
    "version": 2
   },
   "file_extension": ".py",
   "mimetype": "text/x-python",
   "name": "python",
   "nbconvert_exporter": "python",
   "pygments_lexer": "ipython2",
   "version": "2.7.9"
  }
 },
 "nbformat": 4,
 "nbformat_minor": 2
}
