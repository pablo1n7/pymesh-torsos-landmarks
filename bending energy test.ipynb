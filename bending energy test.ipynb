{
 "cells": [
  {
   "cell_type": "code",
   "execution_count": 1,
   "metadata": {
    "collapsed": false,
    "deletable": true,
    "editable": true
   },
   "outputs": [],
   "source": [
    "import numpy as np\n",
    "import pymesh\n",
    "import pandas as pd\n",
    "import re,math\n",
    "import matplotlib.pyplot as plt\n",
    "from mpl_toolkits.mplot3d import Axes3D"
   ]
  },
  {
   "cell_type": "code",
   "execution_count": 2,
   "metadata": {
    "collapsed": true,
    "deletable": true,
    "editable": true
   },
   "outputs": [],
   "source": [
    "def distance3D(a, b):\n",
    "    return math.sqrt((a[0]-b[0])**2+(a[1]-b[1])**2+(a[2]-b[2])**2)\n",
    "\n",
    "\n",
    "def distance2D(a, b):\n",
    "        return math.sqrt( ((b[0]-a[0])**2)  + ((b[1]-a[1])**2) )\n"
   ]
  },
  {
   "cell_type": "code",
   "execution_count": 3,
   "metadata": {
    "collapsed": false,
    "deletable": true,
    "editable": true
   },
   "outputs": [],
   "source": [
    "mesh_f = \"out/torsos_smooth/model_mesh_001.ply\"\n",
    "mesh = pymesh.load_mesh(mesh_f)\n",
    "landmarks = pd.read_csv(\"../../Datos/data_artificial_cites/landmarks_reales/model_mesh_001.pts\",header=None,index_col=[0],skiprows=range(2),delimiter=r\"\\s+\")"
   ]
  },
  {
   "cell_type": "code",
   "execution_count": 4,
   "metadata": {
    "collapsed": true,
    "deletable": true,
    "editable": true
   },
   "outputs": [],
   "source": [
    "ls0 = landmarks.iloc[0].tolist()\n",
    "ls1 = landmarks.iloc[4].tolist()\n",
    "ls2 = landmarks.iloc[9].tolist()\n",
    "ls3 = landmarks.iloc[10].tolist()\n",
    "head = landmarks.iloc[14].tolist()\n",
    "knee_left = landmarks.iloc[8].tolist()\n",
    "knee_right = landmarks.iloc[5].tolist()"
   ]
  },
  {
   "cell_type": "code",
   "execution_count": 5,
   "metadata": {
    "collapsed": false,
    "deletable": true,
    "editable": true
   },
   "outputs": [],
   "source": [
    "# ids_1 = [\"025\",\"026\",\"061\",\"065\",\"067\",\"070\",\"073\",\"078\",\"079\",\"080\",\"081\",\"085\",\"086\",\"090\",\"097\",\"094\"]\n",
    "# ids_2 = [\"002\",\"034\",\"064\",\"071\",\"087\",\"088\",\"092\",\"098\"]\n",
    "# ids_3 = [\"005\",\"033\",\"048\",\"051\",\"114\",\"137\",\"138\",\"145\"]\n",
    "\n",
    "# alpha = -(math.pi /8)\n",
    "# if(re.findall(r'\\d+', mesh_f)[0] in ids_1):\n",
    "#     alpha = alpha - (math.pi /12)\n",
    "# if(re.findall(r'\\d+', mesh_f)[0] in ids_2):\n",
    "#     alpha = alpha - math.radians(5)\n",
    "# if(re.findall(r'\\d+', mesh_f)[0] in ids_3):\n",
    "#     alpha = alpha - math.radians(3)\n",
    "\n",
    "# #matrix = [[1,0,0],[0,math.cos(alpha),-math.sin(alpha)],[0,math.sin(alpha),math.cos(alpha)],[0,0,0]]\n",
    "# matrix = [[1,0,0,0],[0,math.cos(alpha),-math.sin(alpha),0],[0,math.sin(alpha),math.cos(alpha),0],[0,0,0,1]]   \n",
    "\n",
    "# ls0 = np.dot(matrix,[ls0[0],ls0[1],ls0[2],1])[:-1] \n",
    "# ls3 = np.dot(matrix,[ls3[0],ls3[1],ls3[2],1])[:-1] \n",
    "# ls1 = np.dot(matrix,[ls1[0],ls1[1],ls1[2],1])[:-1] \n",
    "# ls2 = np.dot(matrix,[ls2[0],ls2[1],ls2[2],1])[:-1] \n",
    "# head = np.dot(matrix,[head[0],head[1],head[2],1])[:-1] \n",
    "# knee_left = np.dot(matrix,[knee_left[0],knee_left[1],knee_left[2],1])[:-1] \n",
    "# knee_right = np.dot(matrix,[knee_right[0],knee_right[1],knee_right[2],1])[:-1] \n"
   ]
  },
  {
   "cell_type": "code",
   "execution_count": 6,
   "metadata": {
    "collapsed": true,
    "deletable": true,
    "editable": true
   },
   "outputs": [],
   "source": [
    "def vertice_mas_cercano(landmark):\n",
    "    distancias = []\n",
    "    for v in mesh.vertices:\n",
    "        distancias.append(distance3D(landmark,v))\n",
    "    distancias = np.array(distancias)\n",
    "    return mesh.vertices[distancias.argmin()]\n",
    "    "
   ]
  },
  {
   "cell_type": "code",
   "execution_count": 7,
   "metadata": {
    "collapsed": false,
    "deletable": true,
    "editable": true
   },
   "outputs": [],
   "source": [
    "d = pymesh.meshutils.generate_icosphere(0.01,vertice_mas_cercano(ls1))\n",
    "#d = pymesh.meshutils.generate_icosphere(0.01,ls1)\n",
    "pymesh.save_mesh(\"out_energy/landk-ls1.ply\", d)\n",
    "d = pymesh.meshutils.generate_icosphere(0.01,vertice_mas_cercano(ls2))\n",
    "#d = pymesh.meshutils.generate_icosphere(0.01,ls2)\n",
    "pymesh.save_mesh(\"out_energy/landk-ls2.ply\", d)\n",
    "d = pymesh.meshutils.generate_icosphere(0.01,vertice_mas_cercano(ls0))\n",
    "#d = pymesh.meshutils.generate_icosphere(0.01,ls0)\n",
    "pymesh.save_mesh(\"out_energy/landk-ls0.ply\", d)\n",
    "d = pymesh.meshutils.generate_icosphere(0.01,vertice_mas_cercano(ls3))\n",
    "#d = pymesh.meshutils.generate_icosphere(0.01,ls3)\n",
    "pymesh.save_mesh(\"out_energy/landk-ls3.ply\", d)"
   ]
  },
  {
   "cell_type": "code",
   "execution_count": 8,
   "metadata": {
    "collapsed": false,
    "deletable": true,
    "editable": true
   },
   "outputs": [],
   "source": [
    "#head = np.dot(matrix,[head[0],head[1],head[2],1])[:-1] \n",
    "#knee_left = np.dot(matrix,[knee_left[0],knee_left[1],knee_left[2],1])[:-1] \n",
    "#knee_right = np.dot(matrix,[knee_right[0],knee_right[1],knee_right[2],1])[:-1] \n",
    "center_knee = np.array([knee_left,knee_right]).mean(0)\n",
    "semi_landmark = np.array([ls1,ls2]).mean(0)\n",
    "centro = vertice_mas_cercano(semi_landmark)"
   ]
  },
  {
   "cell_type": "code",
   "execution_count": 9,
   "metadata": {
    "collapsed": false,
    "deletable": true,
    "editable": true
   },
   "outputs": [],
   "source": [
    "d = pymesh.meshutils.generate_icosphere(0.01,centro)\n",
    "pymesh.save_mesh(\"out_energy/landk.ply\", d)\n",
    "semi_landmark_superior = np.array([ls0,ls3]).mean(0)\n",
    "centro_superior = vertice_mas_cercano([semi_landmark_superior[0],semi_landmark_superior[1],ls0[2]])\n",
    "d = pymesh.meshutils.generate_icosphere(0.01,centro_superior)\n",
    "pymesh.save_mesh(\"out_energy/landk-s.ply\", d)"
   ]
  },
  {
   "cell_type": "code",
   "execution_count": 10,
   "metadata": {
    "collapsed": false,
    "deletable": true,
    "editable": true,
    "scrolled": false
   },
   "outputs": [],
   "source": [
    "dist = distance2D(centro,centro_superior) / 98\n",
    "matrix_translate = [[1,0,0,0],[0,1,0,dist],[0,0,1,0],[0,0,0,1]]"
   ]
  },
  {
   "cell_type": "code",
   "execution_count": 12,
   "metadata": {
    "collapsed": false,
    "deletable": true,
    "editable": true
   },
   "outputs": [],
   "source": [
    "aux_p = centro\n",
    "semi_landmarks = []\n",
    "for j in range(1,98):\n",
    "        #for i,v in enumerate(c.vertices_ref):\n",
    "        aux_p = np.dot(matrix_translate,[aux_p[0],aux_p[1],aux_p[2],1])[:-1] \n",
    "        #aux = pymesh.meshutils.generate_icosphere(0.01,vertice_mas_cercano([aux_p[0],aux_p[1],centro[2],1]))\n",
    "        #aux2 = pymesh.meshutils.generate_icosphere(0.01,vertice_mas_cercano([aux_p[0],aux_p[1],aux_p[2],1]))\n",
    "        aux2 = pymesh.meshutils.generate_icosphere(0.01,vertice_mas_cercano([centro[0],aux_p[1],centro[2],1]))\n",
    "        semi_landmarks.append(vertice_mas_cercano([centro[0],aux_p[1],centro[2],1]))\n",
    "            #c.vertices_ref[i] = np.dot(matrix,v)[:-1] \n",
    "            #new_mesh = pymesh.boolean(new_mesh, c , operation=\"union\",engine=\"auto\")\n",
    "        #pymesh.save_mesh(\"out_energy/{}-feta-{}.ply\".format(j,mesh_f.split(\"/\")[-1]), aux)\n",
    "        pymesh.save_mesh(\"out_energy/{}-points-{}.ply\".format(j,mesh_f.split(\"/\")[-1]), aux2)"
   ]
  },
  {
   "cell_type": "code",
   "execution_count": 13,
   "metadata": {
    "collapsed": false,
    "deletable": true,
    "editable": true
   },
   "outputs": [
    {
     "data": {
      "text/plain": [
       "7.211616528811457e-05"
      ]
     },
     "execution_count": 13,
     "metadata": {},
     "output_type": "execute_result"
    }
   ],
   "source": [
    "distance2D(semi_landmarks[-1],centro_superior)/98"
   ]
  },
  {
   "cell_type": "code",
   "execution_count": 14,
   "metadata": {
    "collapsed": false,
    "deletable": true,
    "editable": true
   },
   "outputs": [],
   "source": [
    "#dist = dist + distance2D(semi_landmarks[-1],centro_superior)/98"
   ]
  },
  {
   "cell_type": "code",
   "execution_count": 15,
   "metadata": {
    "collapsed": false,
    "deletable": true,
    "editable": true
   },
   "outputs": [
    {
     "data": {
      "text/plain": [
       "0.004320106546761794"
      ]
     },
     "execution_count": 15,
     "metadata": {},
     "output_type": "execute_result"
    }
   ],
   "source": [
    "dist"
   ]
  },
  {
   "cell_type": "code",
   "execution_count": 16,
   "metadata": {
    "collapsed": false,
    "deletable": true,
    "editable": true
   },
   "outputs": [],
   "source": [
    "vertexs_2d = np.delete(np.array(semi_landmarks), [0], axis=1)"
   ]
  },
  {
   "cell_type": "code",
   "execution_count": 17,
   "metadata": {
    "collapsed": false,
    "deletable": true,
    "editable": true
   },
   "outputs": [
    {
     "data": {
      "image/png": "[encoded data removed]",
      "text/plain": [
       "<matplotlib.figure.Figure at 0x7f9600938b10>"
      ]
     },
     "metadata": {},
     "output_type": "display_data"
    }
   ],
   "source": [
    "fig = plt.figure()\n",
    "ax = fig.add_subplot(111)\n",
    "#ax.scatter(vertexs_2d[:,0],vertexs_2d[:,1],marker=\"o\")\n",
    "plt.plot(centro[1],centro[2],\".\")\n",
    "plt.plot(centro_superior[1],centro_superior[2],\".\")\n",
    "plt.plot(vertexs_2d[:,0],vertexs_2d[:,1],\".\")\n",
    "#plt.plot(vertexs_2d[:,0],vertexs_2d[:,1],\"-\")\n",
    "#ax.scatter(centro[1],centro[2],marker=\"o\")\n",
    "#ax.scatter(centro_superior[1],centro_superior[2],marker=\"o\")\n",
    "ax.set_aspect(\"equal\")\n",
    "plt.show()"
   ]
  },
  {
   "cell_type": "code",
   "execution_count": 18,
   "metadata": {
    "collapsed": true,
    "deletable": true,
    "editable": true
   },
   "outputs": [],
   "source": [
    "from scipy.misc import comb\n",
    "\n",
    "def bernstein_poly(i, n, t):\n",
    "    \"\"\"\n",
    "     The Bernstein polynomial of n, i as a function of t\n",
    "    \"\"\"\n",
    "\n",
    "    return comb(n, i) * ( t**(n-i) ) * (1 - t)**i\n",
    "\n",
    "\n",
    "def bezier_curve(points, nTimes=1000):\n",
    "    \"\"\"\n",
    "       Given a set of control points, return the\n",
    "       bezier curve defined by the control points.\n",
    "\n",
    "       points should be a list of lists, or list of tuples\n",
    "       such as [ [1,1], \n",
    "                 [2,3], \n",
    "                 [4,5], ..[Xn, Yn] ]\n",
    "        nTimes is the number of time steps, defaults to 1000\n",
    "\n",
    "        See http://processingjs.nihongoresources.com/bezierinfo/\n",
    "    \"\"\"\n",
    "\n",
    "    nPoints = len(points)\n",
    "    xPoints = np.array([p[0] for p in points])\n",
    "    yPoints = np.array([p[1] for p in points])\n",
    "\n",
    "    t = np.linspace(0.0, 1.0, nTimes)\n",
    "\n",
    "    polynomial_array = np.array([ bernstein_poly(i, nPoints-1, t) for i in range(0, nPoints)   ])\n",
    "\n",
    "    xvals = np.dot(xPoints, polynomial_array)\n",
    "    yvals = np.dot(yPoints, polynomial_array)\n",
    "\n",
    "    return xvals, yvals"
   ]
  },
  {
   "cell_type": "code",
   "execution_count": 19,
   "metadata": {
    "collapsed": false,
    "deletable": true,
    "editable": true
   },
   "outputs": [],
   "source": [
    "points = vertexs_2d.tolist()\n",
    "points.append([centro_superior[1],centro_superior[2]])"
   ]
  },
  {
   "cell_type": "code",
   "execution_count": null,
   "metadata": {
    "collapsed": true,
    "deletable": true,
    "editable": true
   },
   "outputs": [],
   "source": []
  },
  {
   "cell_type": "code",
   "execution_count": 20,
   "metadata": {
    "collapsed": false,
    "deletable": true,
    "editable": true,
    "scrolled": false
   },
   "outputs": [
    {
     "data": {
      "image/png": "[encoded data removed]",
      "text/plain": [
       "<matplotlib.figure.Figure at 0x7f9600938490>"
      ]
     },
     "metadata": {},
     "output_type": "display_data"
    }
   ],
   "source": [
    "fig = plt.figure()\n",
    "ax = fig.add_subplot(111)\n",
    "#points = vertexs_2d\n",
    "#plt.plot(centro[1],centro[2],\".\")\n",
    "xpoints = [p[0] for p in points]\n",
    "ypoints = [p[1] for p in points]\n",
    "xvals, yvals = bezier_curve(points, nTimes=500)\n",
    "plt.plot(xvals, yvals,\"o\")\n",
    "plt.plot(centro[1],centro[2],\".r\")\n",
    "plt.plot(centro_superior[1],centro_superior[2],\".y\")\n",
    "#plt.plot(xpoints, ypoints, \"ro\")\n",
    "# for nr in range(len(points)):\n",
    "#     plt.text(points[nr][0], points[nr][1], nr)\n",
    "ax.set_aspect(\"equal\")\n",
    "plt.show()"
   ]
  },
  {
   "cell_type": "code",
   "execution_count": 21,
   "metadata": {
    "collapsed": false,
    "deletable": true,
    "editable": true
   },
   "outputs": [],
   "source": [
    "landmarks_f = []\n",
    "for j in range(500):\n",
    "    landmarks_f.append([centro[0],xvals[j],yvals[j]])\n",
    "    aux2 = pymesh.meshutils.generate_icosphere(0.01,[centro[0],xvals[j],yvals[j]])\n",
    "    pymesh.save_mesh(\"out_energy/{}-puntosr-{}.ply\".format(j,mesh_f.split(\"/\")[-1]), aux2)"
   ]
  },
  {
   "cell_type": "code",
   "execution_count": null,
   "metadata": {
    "collapsed": true,
    "deletable": true,
    "editable": true
   },
   "outputs": [],
   "source": [
    "landmarks_f = [centro_superior] + landmarks_f + [centro]"
   ]
  },
  {
   "cell_type": "code",
   "execution_count": null,
   "metadata": {
    "collapsed": false,
    "deletable": true,
    "editable": true
   },
   "outputs": [],
   "source": [
    "np.shape(landmarks_f)"
   ]
  },
  {
   "cell_type": "code",
   "execution_count": null,
   "metadata": {
    "collapsed": true,
    "deletable": true,
    "editable": true
   },
   "outputs": [],
   "source": [
    "def lamina_corte(_centro):\n",
    "        delta = [0.4,0.0003,0.4]\n",
    "        xdot = (head[0]*center_knee[0] + head[1]*center_knee[1] + head[2]*center_knee[2])\n",
    "        norma = math.sqrt(head[0]**2+head[1]**2+head[2]**2) * math.sqrt(center_knee[0]**2+center_knee[1]**2+center_knee[2]**2)\n",
    "        angle_head = (math.cos(xdot/norma) ** -1)\n",
    "        angle_head_r = math.radians(90 - math.degrees(angle_head))\n",
    "        q = pymesh.misc.Quaternion(quat=[1,-angle_head_r, 0,0])\n",
    "        p1 = _centro + delta\n",
    "        p2 = _centro  -  delta\n",
    "        return pymesh.meshutils.generate_box_mesh(p2,p1 ,1)"
   ]
  },
  {
   "cell_type": "code",
   "execution_count": null,
   "metadata": {
    "collapsed": false,
    "deletable": true,
    "editable": true
   },
   "outputs": [],
   "source": [
    "for j,f in enumerate(landmarks_f[250:]):\n",
    "    print j, f\n",
    "    output_mesh = pymesh.boolean(mesh, lamina_corte(np.array(f)), operation=\"intersection\",engine=\"auto\")\n",
    "    #lamina_corte(np.array(f))\n",
    "    pymesh.save_mesh(\"out_energy/landmarks/fetas/{}-feta-{}.ply\".format(j,mesh_f.split(\"/\")[-1]), output_mesh )\n",
    "    pymesh.save_mesh(\"out_energy/landmarks/laminas/{}-feta-{}.ply\".format(j,mesh_f.split(\"/\")[-1]), lamina_corte(np.array(f)) )"
   ]
  }
 ],
 "metadata": {
  "kernelspec": {
   "display_name": "Python 2",
   "language": "python",
   "name": "python2"
  },
  "language_info": {
   "codemirror_mode": {
    "name": "ipython",
    "version": 2
   },
   "file_extension": ".py",
   "mimetype": "text/x-python",
   "name": "python",
   "nbconvert_exporter": "python",
   "pygments_lexer": "ipython2",
   "version": "2.7.9"
  }
 },
 "nbformat": 4,
 "nbformat_minor": 2
}
