{
 "cells": [
  {
   "cell_type": "code",
   "execution_count": 7,
   "metadata": {
    "collapsed": false,
    "deletable": true,
    "editable": true,
    "scrolled": true
   },
   "outputs": [
    {
     "name": "stdout",
     "output_type": "stream",
     "text": [
      "../../Datos/data_artificial_cites/150_Monigotes_femeninos/01-00.ply  ../../Datos/data_artificial_cites/landmarks_150_monigotes_femeninos/01-00.pts\n",
      "(8, 3)\n",
      "(67411, 3)\n",
      "(0, 3)\n",
      "(8, 3)\n",
      "(67411, 3)\n",
      "(0, 3)\n",
      "(8, 3)\n",
      "(67411, 3)\n",
      "(0, 3)\n",
      "(8, 3)\n",
      "(67411, 3)\n"
     ]
    },
    {
     "ename": "KeyboardInterrupt",
     "evalue": "",
     "output_type": "error",
     "traceback": [
      "\u001b[0;31m---------------------------------------------------------------------------\u001b[0m",
      "\u001b[0;31mKeyboardInterrupt\u001b[0m                         Traceback (most recent call last)",
      "\u001b[0;32m<ipython-input-7-7778c7750559>\u001b[0m in \u001b[0;36m<module>\u001b[0;34m()\u001b[0m\n\u001b[1;32m    132\u001b[0m         \u001b[0;32mprint\u001b[0m \u001b[0mc\u001b[0m\u001b[0;34m.\u001b[0m\u001b[0mvertices\u001b[0m\u001b[0;34m.\u001b[0m\u001b[0mshape\u001b[0m\u001b[0;34m\u001b[0m\u001b[0m\n\u001b[1;32m    133\u001b[0m         \u001b[0;32mprint\u001b[0m \u001b[0mmesh\u001b[0m\u001b[0;34m.\u001b[0m\u001b[0mvertices\u001b[0m\u001b[0;34m.\u001b[0m\u001b[0mshape\u001b[0m\u001b[0;34m\u001b[0m\u001b[0m\n\u001b[0;32m--> 134\u001b[0;31m         \u001b[0minter_new_mesh\u001b[0m \u001b[0;34m=\u001b[0m \u001b[0mpymesh\u001b[0m\u001b[0;34m.\u001b[0m\u001b[0mboolean\u001b[0m\u001b[0;34m(\u001b[0m\u001b[0mc\u001b[0m\u001b[0;34m,\u001b[0m \u001b[0mmesh\u001b[0m\u001b[0;34m,\u001b[0m \u001b[0moperation\u001b[0m\u001b[0;34m=\u001b[0m\u001b[0;34m\"intersection\"\u001b[0m\u001b[0;34m,\u001b[0m\u001b[0mengine\u001b[0m\u001b[0;34m=\u001b[0m\u001b[0;34m\"auto\"\u001b[0m\u001b[0;34m)\u001b[0m\u001b[0;34m\u001b[0m\u001b[0m\n\u001b[0m\u001b[1;32m    135\u001b[0m         \u001b[0;32mprint\u001b[0m \u001b[0minter_new_mesh\u001b[0m\u001b[0;34m.\u001b[0m\u001b[0mvertices\u001b[0m\u001b[0;34m.\u001b[0m\u001b[0mshape\u001b[0m\u001b[0;34m\u001b[0m\u001b[0m\n\u001b[1;32m    136\u001b[0m         \u001b[0mpymesh\u001b[0m\u001b[0;34m.\u001b[0m\u001b[0msave_mesh\u001b[0m\u001b[0;34m(\u001b[0m\u001b[0;34m\"out/fetas_reales_art/{}-feta-{}.ply\"\u001b[0m\u001b[0;34m.\u001b[0m\u001b[0mformat\u001b[0m\u001b[0;34m(\u001b[0m\u001b[0mj\u001b[0m\u001b[0;34m,\u001b[0m\u001b[0mmesh_f\u001b[0m\u001b[0;34m.\u001b[0m\u001b[0msplit\u001b[0m\u001b[0;34m(\u001b[0m\u001b[0;34m\"/\"\u001b[0m\u001b[0;34m)\u001b[0m\u001b[0;34m[\u001b[0m\u001b[0;34m-\u001b[0m\u001b[0;36m1\u001b[0m\u001b[0;34m]\u001b[0m\u001b[0;34m)\u001b[0m\u001b[0;34m,\u001b[0m \u001b[0minter_new_mesh\u001b[0m\u001b[0;34m)\u001b[0m\u001b[0;34m\u001b[0m\u001b[0m\n",
      "\u001b[0;32m/usr/local/lib/python2.7/dist-packages/pymesh-0.1-py2.7.egg/pymesh/boolean.pyc\u001b[0m in \u001b[0;36mboolean\u001b[0;34m(mesh_1, mesh_2, operation, engine, with_timing, exact_mesh_file)\u001b[0m\n\u001b[1;32m     79\u001b[0m \u001b[0;34m\u001b[0m\u001b[0m\n\u001b[1;32m     80\u001b[0m     \u001b[0;32mif\u001b[0m \u001b[0;34m(\u001b[0m\u001b[0moperation\u001b[0m \u001b[0;34m==\u001b[0m \u001b[0;34m\"intersection\"\u001b[0m\u001b[0;34m)\u001b[0m\u001b[0;34m:\u001b[0m\u001b[0;34m\u001b[0m\u001b[0m\n\u001b[0;32m---> 81\u001b[0;31m         \u001b[0mengine\u001b[0m\u001b[0;34m.\u001b[0m\u001b[0mcompute_intersection\u001b[0m\u001b[0;34m(\u001b[0m\u001b[0;34m)\u001b[0m\u001b[0;34m;\u001b[0m\u001b[0;34m\u001b[0m\u001b[0m\n\u001b[0m\u001b[1;32m     82\u001b[0m     \u001b[0;32melif\u001b[0m \u001b[0;34m(\u001b[0m\u001b[0moperation\u001b[0m \u001b[0;34m==\u001b[0m \u001b[0;34m\"union\"\u001b[0m\u001b[0;34m)\u001b[0m\u001b[0;34m:\u001b[0m\u001b[0;34m\u001b[0m\u001b[0m\n\u001b[1;32m     83\u001b[0m         \u001b[0mengine\u001b[0m\u001b[0;34m.\u001b[0m\u001b[0mcompute_union\u001b[0m\u001b[0;34m(\u001b[0m\u001b[0;34m)\u001b[0m\u001b[0;34m;\u001b[0m\u001b[0;34m\u001b[0m\u001b[0m\n",
      "\u001b[0;32m/usr/local/lib/python2.7/dist-packages/pymesh-0.1-py2.7.egg/pymesh/swig/PyBoolean.pyc\u001b[0m in \u001b[0;36mcompute_intersection\u001b[0;34m(self)\u001b[0m\n\u001b[1;32m     88\u001b[0m     \u001b[0;32mdef\u001b[0m \u001b[0mclean_up\u001b[0m\u001b[0;34m(\u001b[0m\u001b[0mself\u001b[0m\u001b[0;34m)\u001b[0m\u001b[0;34m:\u001b[0m \u001b[0;32mreturn\u001b[0m \u001b[0m_PyBoolean\u001b[0m\u001b[0;34m.\u001b[0m\u001b[0mBooleanEngine_clean_up\u001b[0m\u001b[0;34m(\u001b[0m\u001b[0mself\u001b[0m\u001b[0;34m)\u001b[0m\u001b[0;34m\u001b[0m\u001b[0m\n\u001b[1;32m     89\u001b[0m     \u001b[0;32mdef\u001b[0m \u001b[0mcompute_union\u001b[0m\u001b[0;34m(\u001b[0m\u001b[0mself\u001b[0m\u001b[0;34m)\u001b[0m\u001b[0;34m:\u001b[0m \u001b[0;32mreturn\u001b[0m \u001b[0m_PyBoolean\u001b[0m\u001b[0;34m.\u001b[0m\u001b[0mBooleanEngine_compute_union\u001b[0m\u001b[0;34m(\u001b[0m\u001b[0mself\u001b[0m\u001b[0;34m)\u001b[0m\u001b[0;34m\u001b[0m\u001b[0m\n\u001b[0;32m---> 90\u001b[0;31m     \u001b[0;32mdef\u001b[0m \u001b[0mcompute_intersection\u001b[0m\u001b[0;34m(\u001b[0m\u001b[0mself\u001b[0m\u001b[0;34m)\u001b[0m\u001b[0;34m:\u001b[0m \u001b[0;32mreturn\u001b[0m \u001b[0m_PyBoolean\u001b[0m\u001b[0;34m.\u001b[0m\u001b[0mBooleanEngine_compute_intersection\u001b[0m\u001b[0;34m(\u001b[0m\u001b[0mself\u001b[0m\u001b[0;34m)\u001b[0m\u001b[0;34m\u001b[0m\u001b[0m\n\u001b[0m\u001b[1;32m     91\u001b[0m     \u001b[0;32mdef\u001b[0m \u001b[0mcompute_difference\u001b[0m\u001b[0;34m(\u001b[0m\u001b[0mself\u001b[0m\u001b[0;34m)\u001b[0m\u001b[0;34m:\u001b[0m \u001b[0;32mreturn\u001b[0m \u001b[0m_PyBoolean\u001b[0m\u001b[0;34m.\u001b[0m\u001b[0mBooleanEngine_compute_difference\u001b[0m\u001b[0;34m(\u001b[0m\u001b[0mself\u001b[0m\u001b[0;34m)\u001b[0m\u001b[0;34m\u001b[0m\u001b[0m\n\u001b[1;32m     92\u001b[0m     \u001b[0;32mdef\u001b[0m \u001b[0mcompute_symmetric_difference\u001b[0m\u001b[0;34m(\u001b[0m\u001b[0mself\u001b[0m\u001b[0;34m)\u001b[0m\u001b[0;34m:\u001b[0m \u001b[0;32mreturn\u001b[0m \u001b[0m_PyBoolean\u001b[0m\u001b[0;34m.\u001b[0m\u001b[0mBooleanEngine_compute_symmetric_difference\u001b[0m\u001b[0;34m(\u001b[0m\u001b[0mself\u001b[0m\u001b[0;34m)\u001b[0m\u001b[0;34m\u001b[0m\u001b[0m\n",
      "\u001b[0;31mKeyboardInterrupt\u001b[0m: "
     ]
    }
   ],
   "source": [
    "import pymesh\n",
    "import numpy as np\n",
    "import pandas as pd\n",
    "import math\n",
    "import glob\n",
    "import re\n",
    "\n",
    "def distance3D(a, b):\n",
    "    return math.sqrt((a[0]-b[0])**2+(a[1]-b[1])**2+(a[2]-b[2])**2)\n",
    "\n",
    "def distance2D(a, b):\n",
    "        return math.sqrt( ((b[0]-a[0])**2)  + ((b[1]-a[1])**2) )\n",
    "\n",
    "\n",
    "\n",
    "fs_landmarks = sorted(glob.glob(\"../../Datos/data_artificial_cites/landmarks_150_monigotes_femeninos/*.pts\"))\n",
    "fs_mesh = sorted(glob.glob(\"../../Datos/data_artificial_cites/150_Monigotes_femeninos/*.ply\"))\n",
    "\n",
    "if np.shape(fs_landmarks) != np.shape(fs_mesh):\n",
    "    print \"No son iguales\"\n",
    "\n",
    "#fs_mesh[0]\n",
    "\n",
    "for landmarks_f, mesh_f in zip(fs_landmarks[0:1], fs_mesh[0:1]):\n",
    "    #mesh_f = fs_mesh[0]\n",
    "    #landmarks_f = fs_landmarks[0] \n",
    "    print mesh_f+\"  \"+landmarks_f\n",
    "    landmarks = pd.read_csv(landmarks_f,header=None,index_col=[0],skiprows=range(2),delimiter=r\"\\s+\")\n",
    "    mesh = pymesh.load_mesh(mesh_f)\n",
    "    ls0 = landmarks.iloc[0].tolist()\n",
    "    ls1 = landmarks.iloc[4].tolist()\n",
    "    ls2 = landmarks.iloc[9].tolist()\n",
    "    ls3 = landmarks.iloc[10].tolist()\n",
    "    head = landmarks.iloc[14].tolist()\n",
    "    #foot_left = landmarks.iloc[7].tolist()\n",
    "    #foot_right = landmarks.iloc[6].tolist()\n",
    "    knee_left = landmarks.iloc[8].tolist()\n",
    "    knee_right = landmarks.iloc[5].tolist()\n",
    "\n",
    "#     alpha = -(math.pi /8)\n",
    "    \n",
    "#     #alpha = (math.pi /12)\n",
    "#     #alpha = math.radians(5)\n",
    "#     #alpha = math.radians(3) \n",
    "#     ids_1 = [\"025\",\"026\",\"061\",\"065\",\"067\",\"070\",\"073\",\"078\",\"079\",\"080\",\"081\",\"085\",\"086\",\"090\",\"097\",\"094\"]\n",
    "#     ids_2 = [\"002\",\"034\",\"064\",\"071\",\"087\",\"088\",\"092\",\"098\"]\n",
    "#     ids_3 = [\"005\",\"033\",\"048\",\"051\",\"114\",\"137\",\"138\",\"145\"]\n",
    "    \n",
    "#     if(re.findall(r'\\d+', mesh_f)[0] in ids_1):\n",
    "#         alpha = alpha - (math.pi /12)\n",
    "#     if(re.findall(r'\\d+', mesh_f)[0] in ids_2):\n",
    "#         alpha = alpha - math.radians(5)\n",
    "#     if(re.findall(r'\\d+', mesh_f)[0] in ids_3):\n",
    "#         alpha = alpha - math.radians(3)\n",
    "    \n",
    "#     #matrix = [[1,0,0],[0,math.cos(alpha),-math.sin(alpha)],[0,math.sin(alpha),math.cos(alpha)],[0,0,0]]\n",
    "#     matrix = [[1,0,0,0],[0,math.cos(alpha),-math.sin(alpha),0],[0,math.sin(alpha),math.cos(alpha),0],[0,0,0,1]]   \n",
    "\n",
    "#     ls0 = np.dot(matrix,[ls0[0],ls0[1],ls0[2],1])[:-1] \n",
    "#     ls3 = np.dot(matrix,[ls3[0],ls3[1],ls3[2],1])[:-1] \n",
    "\n",
    "#     ls1 = np.dot(matrix,[ls1[0],ls1[1],ls1[2],1])[:-1] \n",
    "#     ls2 = np.dot(matrix,[ls2[0],ls2[1],ls2[2],1])[:-1] \n",
    "\n",
    "#     head = np.dot(matrix,[head[0],head[1],head[2],1])[:-1] \n",
    "#     knee_left = np.dot(matrix,[knee_left[0],knee_left[1],knee_left[2],1])[:-1] \n",
    "#     knee_right = np.dot(matrix,[knee_right[0],knee_right[1],knee_right[2],1])[:-1] \n",
    "\n",
    "    center_knee = np.array([knee_left,knee_right]).mean(0)\n",
    "    semi_landmark = np.array([ls1,ls2]).mean(0)\n",
    "    distancias = []\n",
    "    for v in mesh.vertices:\n",
    "        distancias.append(distance3D(semi_landmark,v))\n",
    "    distancias = np.array(distancias)\n",
    "    centro = mesh.vertices[distancias.argmin()]\n",
    "    distancias.argmin()\n",
    "\n",
    "    d = pymesh.meshutils.generate_icosphere(0.01,centro)\n",
    "    pymesh.save_mesh(\"out/landk.ply\", d)\n",
    "\n",
    "    semi_landmark_superior = np.array([ls0,ls3]).mean(0)\n",
    "    distancias = []\n",
    "    for v in mesh.vertices:\n",
    "        distancias.append(distance3D(semi_landmark_superior,v))\n",
    "    distancias = np.array(distancias)\n",
    "    centro_superior = mesh.vertices[distancias.argmin()]\n",
    "\n",
    "    d = pymesh.meshutils.generate_icosphere(0.01,centro_superior)\n",
    "    pymesh.save_mesh(\"out/landk-s.ply\", d)\n",
    "\n",
    "    def lamina_corte(_centro):\n",
    "        delta = [0.4,0.0003,0.4]\n",
    "        xdot = (head[0]*center_knee[0] + head[1]*center_knee[1] + head[2]*center_knee[2])\n",
    "        norma = math.sqrt(head[0]**2+head[1]**2+head[2]**2) * math.sqrt(center_knee[0]**2+center_knee[1]**2+center_knee[2]**2)\n",
    "        angle_head = (math.cos(xdot/norma) ** -1)\n",
    "        angle_head_r = math.radians(90 - math.degrees(angle_head))\n",
    "        q = pymesh.misc.Quaternion(quat=[1,-angle_head_r, 0,0])\n",
    "        p1 = _centro + delta\n",
    "        p2 = _centro  -  delta\n",
    "        return pymesh.meshutils.generate_box_mesh(p2,p1 ,1)\n",
    "\n",
    "\n",
    "\n",
    "    #matrix_translate = [[1,0,0,0],[0,1,0,0.02],[0,0,1,0],[0,0,0,1]]\n",
    "\n",
    "    #for i,v in enumerate(c.vertices_ref):\n",
    "        #c.vertices_ref[i] = np.dot(matrix,[v[0],v[1],v[2],1])[:-1] \n",
    "        #c.vertices_ref[i] = np.dot(matrix,v)[:-1] \n",
    "\n",
    "\n",
    "    c = lamina_corte(centro_superior)\n",
    "    pymesh.save_mesh(\"out/fetas_art/{}-feta-{}.ply\".format(-1,mesh_f.split(\"/\")[-1]),c)\n",
    "    #new_mesh = c\n",
    "\n",
    "    c = lamina_corte(centro)\n",
    "    pymesh.save_mesh(\"out/fetas_art/{}-feta-{}.ply\".format(0,mesh_f.split(\"/\")[-1]),c)\n",
    "\n",
    "\n",
    "\n",
    "\n",
    "    dist = distance2D(centro,centro_superior) / 98\n",
    "    dist\n",
    "\n",
    "    matrix_translate = [[1,0,0,0],[0,1,0,dist],[0,0,1,0],[0,0,0,1]]\n",
    "\n",
    "    for j in range(1,98):\n",
    "        for i,v in enumerate(c.vertices_ref):\n",
    "            c.vertices_ref[i] = np.dot(matrix_translate,[v[0],v[1],v[2],1])[:-1] \n",
    "            #c.vertices_ref[i] = np.dot(matrix,v)[:-1] \n",
    "            #new_mesh = pymesh.boolean(new_mesh, c , operation=\"union\",engine=\"auto\")\n",
    "        pymesh.save_mesh(\"out/fetas_art/{}-feta-{}.ply\".format(j,mesh_f.split(\"/\")[-1]), c)\n",
    "        print c.vertices.shape\n",
    "        print mesh.vertices.shape\n",
    "        inter_new_mesh = pymesh.boolean(c, mesh, operation=\"intersection\",engine=\"auto\")\n",
    "        print inter_new_mesh.vertices.shape\n",
    "        pymesh.save_mesh(\"out/fetas_reales_art/{}-feta-{}.ply\".format(j,mesh_f.split(\"/\")[-1]), inter_new_mesh)\n",
    "\n",
    "    new_mesh = pymesh.load_mesh(\"out/fetas_art/{}-feta-{}.ply\".format(0,mesh_f.split(\"/\")[-1]))\n",
    "    for i in range(1,50):\n",
    "        temp= pymesh.load_mesh(\"out/fetas_art/{}-feta-{}.ply\".format(i,mesh_f.split(\"/\")[-1]))\n",
    "        new_mesh = pymesh.boolean(new_mesh, temp , operation=\"union\",engine=\"auto\")\n",
    "        \n",
    "\n",
    "    output_mesh = pymesh.boolean(new_mesh, mesh, operation=\"intersection\",engine=\"auto\")\n",
    "    #pymesh.save_mesh(\"out/torsos_feteados/feteado-{}\".format(mesh_f.split(\"/\")[-1]), output_mesh)\n",
    "    pymesh.save_mesh(\"out/torsos_feteados_art/feteado-{}\".format(mesh_f.split(\"/\")[-1]), output_mesh)\n",
    "    print \"----------------------------------------------------------\""
   ]
  },
  {
   "cell_type": "code",
   "execution_count": 9,
   "metadata": {
    "collapsed": true
   },
   "outputs": [],
   "source": [
    "pymesh.save_mesh(\"p.ply\",mesh)"
   ]
  },
  {
   "cell_type": "code",
   "execution_count": 20,
   "metadata": {
    "collapsed": false
   },
   "outputs": [],
   "source": [
    "inter_new_mesh = pymesh.boolean(mesh,c, operation=\"intersection\",engine=\"carve\")"
   ]
  },
  {
   "cell_type": "code",
   "execution_count": 18,
   "metadata": {
    "collapsed": true
   },
   "outputs": [],
   "source": [
    "pymesh.save_mesh(\"p1.ply\",inter_new_mesh)"
   ]
  },
  {
   "cell_type": "code",
   "execution_count": 21,
   "metadata": {
    "collapsed": false
   },
   "outputs": [
    {
     "data": {
      "text/plain": [
       "(557, 3)"
      ]
     },
     "execution_count": 21,
     "metadata": {},
     "output_type": "execute_result"
    }
   ],
   "source": [
    "inter_new_mesh.vertices.shape"
   ]
  }
 ],
 "metadata": {
  "kernelspec": {
   "display_name": "Python 2",
   "language": "python",
   "name": "python2"
  },
  "language_info": {
   "codemirror_mode": {
    "name": "ipython",
    "version": 2
   },
   "file_extension": ".py",
   "mimetype": "text/x-python",
   "name": "python",
   "nbconvert_exporter": "python",
   "pygments_lexer": "ipython2",
   "version": "2.7.9"
  }
 },
 "nbformat": 4,
 "nbformat_minor": 2
}
