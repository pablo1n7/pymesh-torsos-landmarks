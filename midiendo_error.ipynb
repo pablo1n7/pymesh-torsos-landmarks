{
 "cells": [
  {
   "cell_type": "code",
   "execution_count": 1,
   "metadata": {
    "collapsed": true
   },
   "outputs": [],
   "source": [
    "import pandas as pd\n",
    "from glob import glob\n",
    "import numpy as np\n",
    "from scipy.spatial import distance\n",
    "import re\n",
    "import pymesh,math"
   ]
  },
  {
   "cell_type": "code",
   "execution_count": 2,
   "metadata": {
    "collapsed": true
   },
   "outputs": [],
   "source": [
    "# !pip install xlrd"
   ]
  },
  {
   "cell_type": "code",
   "execution_count": 3,
   "metadata": {
    "collapsed": false
   },
   "outputs": [],
   "source": [
    "data = pd.read_excel(\"../planilla_colecta.xlsx\")"
   ]
  },
  {
   "cell_type": "code",
   "execution_count": 4,
   "metadata": {
    "collapsed": false
   },
   "outputs": [],
   "source": [
    "data = data[[\"id\",\"sexo\",\"peso\",\"promedio altura\",\"promedio cir cad\"]]"
   ]
  },
  {
   "cell_type": "code",
   "execution_count": 5,
   "metadata": {
    "collapsed": false
   },
   "outputs": [],
   "source": [
    "row_data = data.loc[data['id'] == 1].iloc[0].tolist()"
   ]
  },
  {
   "cell_type": "code",
   "execution_count": 6,
   "metadata": {
    "collapsed": false
   },
   "outputs": [
    {
     "data": {
      "text/plain": [
       "[1, u'f', 62.299999999999997, 163.40000000000001, 101.045]"
      ]
     },
     "execution_count": 6,
     "metadata": {},
     "output_type": "execute_result"
    }
   ],
   "source": [
    "row_data"
   ]
  },
  {
   "cell_type": "code",
   "execution_count": 7,
   "metadata": {
    "collapsed": false
   },
   "outputs": [],
   "source": [
    "fs_landmarks = sorted(glob(\"../data_artificial_cites/landmarks_reales/*.pts\"))\n",
    "fs_mesh = sorted(glob(\"./out/torsos/*.ply\"))"
   ]
  },
  {
   "cell_type": "code",
   "execution_count": null,
   "metadata": {
    "collapsed": false
   },
   "outputs": [],
   "source": []
  },
  {
   "cell_type": "code",
   "execution_count": 20,
   "metadata": {
    "collapsed": false
   },
   "outputs": [],
   "source": [
    "estatura_error = []\n",
    "estatura_calculada = []\n",
    "cadera_calculada=[]\n",
    "cadera_error=[]\n",
    "for landmarks_f, mesh_f in zip(fs_landmarks, fs_mesh):\n",
    "    row_data = data.loc[data['id'] == int(re.findall(\"\\d+\",landmarks_f)[0])].iloc[0].tolist()\n",
    "    landmarks = pd.read_csv(landmarks_f,header=None,index_col=[0],skiprows=range(2),delimiter=r\"\\s+\")\n",
    "    output_mesh = pymesh.load_mesh(mesh_f)\n",
    "    #mesh = pymesh.load_mesh(mesh_f)\n",
    "    head = landmarks.iloc[14].tolist()\n",
    "    center_foot = np.array([landmarks.iloc[7].tolist(),landmarks.iloc[6].tolist()]).mean(0)\n",
    "    estatura = distance.pdist(np.array([head,center_foot]))[0]*100\n",
    "    estatura_calculada.append(estatura)\n",
    "    estatura_error.append( estatura - row_data[3])\n",
    "    \n",
    "    ls0 = landmarks.iloc[0].tolist()\n",
    "    ls1 = landmarks.iloc[4].tolist()\n",
    "    ls2 = landmarks.iloc[9].tolist()\n",
    "    ls3 = landmarks.iloc[10].tolist()\n",
    "    knee_left = landmarks.iloc[8].tolist()\n",
    "    knee_right = landmarks.iloc[5].tolist()\n",
    "    landmarks_torzo = np.array([ls0,ls1,ls2,ls3])\n",
    "    center_knee = np.array([knee_left,knee_right]).mean(0)\n",
    "\n",
    "    def distance3D(a, b):\n",
    "        return math.sqrt((a[0]-b[0])**2+(a[1]-b[1])**2+(a[2]-b[2])**2)\n",
    "\n",
    "    def distance2D(a, b):\n",
    "        return math.sqrt( ((b[0]-a[0])**2)  + ((b[1]-a[1])**2) )\n",
    "\n",
    "    def angle(a,b):\n",
    "        uv = a[0]*b[0] + a[1]*b[1]+ a[2]*b[2]\n",
    "        norma_uv = math.sqrt((a[0]**2+a[1]**2+a[2]**2)) * math.sqrt((b[0]**2+b[1]**2+b[2]**2 ))\n",
    "        return math.acos(uv/norma_uv)\n",
    "\n",
    "    semi_landmark = landmarks_torzo[1:3].mean(0)\n",
    "    distancias = []\n",
    "    for v in output_mesh.vertices:\n",
    "        distancias.append(distance3D(semi_landmark,v))\n",
    "    distancias = np.array(distancias)\n",
    "    ver_semi_landmark = output_mesh.vertices[distancias.argmin()]\n",
    "    distancias.argmin()\n",
    "\n",
    "    xdot = (head[0]*center_knee[0] + head[1]*center_knee[1] + head[2]*center_knee[2])\n",
    "    norma = math.sqrt(head[0]**2+head[1]**2+head[2]**2) * math.sqrt(center_knee[0]**2+center_knee[1]**2+center_knee[2]**2)\n",
    "    angle_head = (math.cos(xdot/norma) ** -1)\n",
    "    angle_head_r = math.radians(90 - math.degrees(angle_head))\n",
    "    angle_head_r\n",
    "\n",
    "    new_mesh = pymesh.meshutils.generate_icosphere(0.01,ver_semi_landmark)\n",
    "    q = pymesh.misc.Quaternion(quat=[1,-angle_head_r, 0, 0])\n",
    "    circle_points = []\n",
    "    for i in range(360):\n",
    "        distance_points = 0.15\n",
    "        angleY = math.radians(i)\n",
    "        angleZ = 0\n",
    "        x= ver_semi_landmark[0] + distance_points * math.cos (angleZ) * math.sin(angleY)\n",
    "        y= ver_semi_landmark[1] + distance_points * math.sin (angleZ)\n",
    "        z= ver_semi_landmark[2] + distance_points * math.cos (angleZ) * math.cos(angleY)\n",
    "        v_v = [x,y,z] \n",
    "        v = q.rotate(v_v)\n",
    "        v[2] = v[2] /6.5\n",
    "        v[1] = v[1] /6.5\n",
    "        v[0] = v[0] /5.5\n",
    "        circle_points.append(v)\n",
    "\n",
    "        #temp = pymesh.meshutils.generate_icosphere(0.01,v)\n",
    "        #new_mesh = pymesh.boolean(new_mesh, temp , operation=\"union\",engine=\"auto\")\n",
    "    #pymesh.save_mesh(\"out/circle.ply\", new_mesh)\n",
    "\n",
    "    circle_points = np.array(circle_points)\n",
    "    vertexs = []\n",
    "    for cp in circle_points:\n",
    "        distancias_circle = []\n",
    "        for v in output_mesh.vertices:\n",
    "            distancias_circle.append(distance3D(cp,v))\n",
    "        vertexs.append(output_mesh.vertices[np.array(distancias_circle).argmin()])\n",
    "    \n",
    "    vertexs_2d = np.delete(vertexs, [1], axis=1)\n",
    "    aux = 0\n",
    "    for i,v in enumerate(vertexs_2d[:-1]):\n",
    "        aux = aux + distance2D(v,vertexs_2d[i+1])\n",
    "    aux = aux + distance2D(vertexs_2d[0],vertexs_2d[-1])\n",
    "    cadera_calculada.append(aux*100)\n",
    "    cadera_error.append((aux*100) - row_data[4])"
   ]
  },
  {
   "cell_type": "code",
   "execution_count": 9,
   "metadata": {
    "collapsed": false
   },
   "outputs": [
    {
     "data": {
      "text/plain": [
       "(148,)"
      ]
     },
     "execution_count": 9,
     "metadata": {},
     "output_type": "execute_result"
    }
   ],
   "source": [
    "np.shape(estatura_error)"
   ]
  },
  {
   "cell_type": "code",
   "execution_count": 10,
   "metadata": {
    "collapsed": false
   },
   "outputs": [],
   "source": [
    "data[\"estatura cal\"] = estatura_calculada\n",
    "data[\"estatura error\"] = estatura_error"
   ]
  },
  {
   "cell_type": "code",
   "execution_count": 11,
   "metadata": {
    "collapsed": false
   },
   "outputs": [
    {
     "data": {
      "text/plain": [
       "array([  97.79377459,  113.5606211 ,   99.07469803, ...,   90.07255579,\n",
       "         95.22239841,   88.70241601])"
      ]
     },
     "execution_count": 11,
     "metadata": {},
     "output_type": "execute_result"
    }
   ],
   "source": [
    "np.array(cadera_calculada*100)"
   ]
  },
  {
   "cell_type": "code",
   "execution_count": 12,
   "metadata": {
    "collapsed": false
   },
   "outputs": [
    {
     "data": {
      "text/html": [
       "<div>\n",
       "<table border=\"1\" class=\"dataframe\">\n",
       "  <thead>\n",
       "    <tr style=\"text-align: right;\">\n",
       "      <th></th>\n",
       "      <th>id</th>\n",
       "      <th>sexo</th>\n",
       "      <th>peso</th>\n",
       "      <th>promedio altura</th>\n",
       "      <th>promedio cir cad</th>\n",
       "      <th>estatura cal</th>\n",
       "      <th>estatura error</th>\n",
       "    </tr>\n",
       "  </thead>\n",
       "  <tbody>\n",
       "    <tr>\n",
       "      <th>0</th>\n",
       "      <td>1</td>\n",
       "      <td>f</td>\n",
       "      <td>62.3</td>\n",
       "      <td>163.4</td>\n",
       "      <td>101.045</td>\n",
       "      <td>160.664674</td>\n",
       "      <td>-2.735326</td>\n",
       "    </tr>\n",
       "    <tr>\n",
       "      <th>1</th>\n",
       "      <td>2</td>\n",
       "      <td>f</td>\n",
       "      <td>81.3</td>\n",
       "      <td>169.6</td>\n",
       "      <td>112.150</td>\n",
       "      <td>167.738174</td>\n",
       "      <td>-1.861826</td>\n",
       "    </tr>\n",
       "    <tr>\n",
       "      <th>3</th>\n",
       "      <td>4</td>\n",
       "      <td>f</td>\n",
       "      <td>64.7</td>\n",
       "      <td>172.3</td>\n",
       "      <td>98.400</td>\n",
       "      <td>168.866975</td>\n",
       "      <td>-3.433025</td>\n",
       "    </tr>\n",
       "    <tr>\n",
       "      <th>4</th>\n",
       "      <td>5</td>\n",
       "      <td>f</td>\n",
       "      <td>64.1</td>\n",
       "      <td>166.1</td>\n",
       "      <td>94.950</td>\n",
       "      <td>161.785386</td>\n",
       "      <td>-4.314614</td>\n",
       "    </tr>\n",
       "    <tr>\n",
       "      <th>5</th>\n",
       "      <td>6</td>\n",
       "      <td>m</td>\n",
       "      <td>79.2</td>\n",
       "      <td>170.6</td>\n",
       "      <td>107.300</td>\n",
       "      <td>165.830201</td>\n",
       "      <td>-4.769799</td>\n",
       "    </tr>\n",
       "  </tbody>\n",
       "</table>\n",
       "</div>"
      ],
      "text/plain": [
       "   id sexo  peso  promedio altura  promedio cir cad  estatura cal  \\\n",
       "0   1    f  62.3            163.4           101.045    160.664674   \n",
       "1   2    f  81.3            169.6           112.150    167.738174   \n",
       "3   4    f  64.7            172.3            98.400    168.866975   \n",
       "4   5    f  64.1            166.1            94.950    161.785386   \n",
       "5   6    m  79.2            170.6           107.300    165.830201   \n",
       "\n",
       "   estatura error  \n",
       "0       -2.735326  \n",
       "1       -1.861826  \n",
       "3       -3.433025  \n",
       "4       -4.314614  \n",
       "5       -4.769799  "
      ]
     },
     "execution_count": 12,
     "metadata": {},
     "output_type": "execute_result"
    }
   ],
   "source": [
    "data.loc[abs(data['id'])<7]"
   ]
  },
  {
   "cell_type": "code",
   "execution_count": 13,
   "metadata": {
    "collapsed": false
   },
   "outputs": [
    {
     "data": {
      "text/plain": [
       "[97.79377459351699,\n",
       " 113.56062110430078,\n",
       " 99.07469803473768,\n",
       " 93.6214220207284,\n",
       " 95.52199662123043,\n",
       " 99.01534097097003,\n",
       " 102.97798799373432,\n",
       " 90.14125524524601,\n",
       " 100.77533445379223,\n",
       " 99.3232641585929,\n",
       " 97.39247663584788,\n",
       " 92.82785869634007,\n",
       " 118.44998269877746,\n",
       " 101.8556021285766,\n",
       " 108.10325501717767,\n",
       " 97.34926613228406,\n",
       " 96.30615133870369,\n",
       " 92.33377728231751,\n",
       " 102.19528454823936,\n",
       " 98.50809676414863,\n",
       " 101.81911806864893,\n",
       " 95.04949227701172,\n",
       " 100.81119298593542,\n",
       " 98.94851723049844,\n",
       " 92.29566094375402,\n",
       " 103.07264919053239,\n",
       " 99.98205395719879,\n",
       " 108.40327546156412,\n",
       " 97.2914015572941,\n",
       " 89.54703213008533,\n",
       " 87.38333976074135,\n",
       " 94.92386075530975,\n",
       " 97.05695590282828,\n",
       " 91.60814441856205,\n",
       " 103.2631240084873,\n",
       " 115.49345462947433,\n",
       " 89.8269311739895,\n",
       " 92.59891222229238,\n",
       " 100.43319847313059,\n",
       " 95.27429661707868,\n",
       " 103.59627428134128,\n",
       " 96.39822181600297,\n",
       " 93.74661400651787,\n",
       " 98.14129744297014,\n",
       " 111.08977412286293,\n",
       " 111.46484627008037,\n",
       " 106.20913699379382,\n",
       " 91.9009568157967,\n",
       " 105.70354726005668,\n",
       " 94.86847219289399,\n",
       " 94.61427027489783,\n",
       " 96.14080030674933,\n",
       " 90.90200708593505,\n",
       " 100.4067688983848,\n",
       " 106.43960164457663,\n",
       " 108.58923044865381,\n",
       " 105.51207541078367,\n",
       " 92.3703879038614,\n",
       " 97.89797904514667,\n",
       " 105.5766229040047,\n",
       " 102.13618768748647,\n",
       " 93.98048578332104,\n",
       " 126.01646690965993,\n",
       " 94.68036737917394,\n",
       " 112.7539658877451,\n",
       " 93.59399995477774,\n",
       " 88.63009817965447,\n",
       " 97.86070941209552,\n",
       " 92.42127237590154,\n",
       " 88.62711016699103,\n",
       " 100.09282996386605,\n",
       " 95.04223960055542,\n",
       " 98.14967285751786,\n",
       " 101.65600369440817,\n",
       " 99.93409974355235,\n",
       " 90.9646005912663,\n",
       " 104.33336158689977,\n",
       " 104.17355712526589,\n",
       " 103.89762280902394,\n",
       " 122.53386033949553,\n",
       " 99.70045126701116,\n",
       " 94.04949476511214,\n",
       " 96.06325206956869,\n",
       " 101.56051544091686,\n",
       " 93.26796422066279,\n",
       " 101.5195996521581,\n",
       " 112.51818647940985,\n",
       " 103.55572277021112,\n",
       " 94.61303933957362,\n",
       " 97.11825351964823,\n",
       " 100.32447208824769,\n",
       " 97.15075857754685,\n",
       " 124.60459830010409,\n",
       " 91.75224711860535,\n",
       " 89.99027485014146,\n",
       " 95.72711897312331,\n",
       " 101.47970051728043,\n",
       " 97.05609408055855,\n",
       " 99.8607580294639,\n",
       " 101.41260096833007,\n",
       " 121.87617420230734,\n",
       " 93.05379363250952,\n",
       " 102.19136352765321,\n",
       " 120.66794464070642,\n",
       " 104.75871188762275,\n",
       " 110.76063039741032,\n",
       " 91.12085482444195,\n",
       " 93.44717109891779,\n",
       " 92.27000268930038,\n",
       " 109.53361217397483,\n",
       " 106.20640762609546,\n",
       " 94.46961611326536,\n",
       " 103.52851299098751,\n",
       " 104.83650343482671,\n",
       " 98.65483796685174,\n",
       " 100.46978702582392,\n",
       " 94.65064230925722,\n",
       " 97.94057153768634,\n",
       " 118.43808143994892,\n",
       " 94.37424482756354,\n",
       " 104.64040110756494,\n",
       " 88.3182956880828,\n",
       " 83.92491122653917,\n",
       " 101.63851751271315,\n",
       " 95.32429800375064,\n",
       " 100.06718585367156,\n",
       " 95.44425097614348,\n",
       " 103.95436879690921,\n",
       " 98.67396271764582,\n",
       " 92.2476986542457,\n",
       " 94.26166380734101,\n",
       " 97.5640457301469,\n",
       " 87.8619086067679,\n",
       " 108.46047399021077,\n",
       " 101.78795045253177,\n",
       " 99.2593176890415,\n",
       " 103.44890119509608,\n",
       " 109.76050722969408,\n",
       " 105.1981936937844,\n",
       " 92.17660251442516,\n",
       " 104.24624838305057,\n",
       " 99.80986231394144,\n",
       " 102.81259337124244,\n",
       " 112.41352326257655,\n",
       " 103.93157751617905,\n",
       " 90.07255578940337,\n",
       " 95.22239841387994,\n",
       " 88.70241600960176]"
      ]
     },
     "execution_count": 13,
     "metadata": {},
     "output_type": "execute_result"
    }
   ],
   "source": [
    "cadera_calculada"
   ]
  },
  {
   "cell_type": "code",
   "execution_count": 19,
   "metadata": {
    "collapsed": false
   },
   "outputs": [
    {
     "data": {
      "text/plain": [
       "[-30.106545370525666,\n",
       " -12.273825797692666,\n",
       " -11.778003378769569,\n",
       " -11.039484559083135,\n",
       " -10.645401699895913,\n",
       " -10.204715451760649,\n",
       " -9.7373990316699377,\n",
       " -9.5529678699146672,\n",
       " -9.2221413036599245,\n",
       " -8.7357297251021606,\n",
       " -8.7335330903400745,\n",
       " -8.4010988049039099,\n",
       " -8.3867479304313122,\n",
       " -8.3460341122548982,\n",
       " -7.8086364723467909,\n",
       " -7.5317043119171956,\n",
       " -7.3103983554233736,\n",
       " -6.7791451755580567,\n",
       " -6.5228898330089748,\n",
       " -6.1419032358513732,\n",
       " -6.1287276240984596,\n",
       " -6.0853994087336929,\n",
       " -5.99013768605856,\n",
       " -5.8161396605044615,\n",
       " -5.7975839903982376,\n",
       " -5.7479929140649517,\n",
       " -5.7037257186587169,\n",
       " -5.5883361926589856,\n",
       " -5.5179460428012135,\n",
       " -5.5166602392586555,\n",
       " -5.4442772297888808,\n",
       " -5.2364767374234589,\n",
       " -4.8159002564476481,\n",
       " -4.7408630062061832,\n",
       " -4.6634965651732898,\n",
       " -4.5895260097892248,\n",
       " -4.4500173012225446,\n",
       " -4.4077603994445838,\n",
       " -4.0730688260105126,\n",
       " -4.066638413100236,\n",
       " -4.011918560051086,\n",
       " -3.8495487329888363,\n",
       " -3.8097251498585365,\n",
       " -3.7587447547539909,\n",
       " -3.6818135205901541,\n",
       " -3.4299973106996191,\n",
       " -3.2512254064830159,\n",
       " -3.2017781839970212,\n",
       " -3.1533859934821322,\n",
       " -3.1195142166789509,\n",
       " -3.1023013457542987,\n",
       " -3.0951620331482559,\n",
       " -3.0846590290299645,\n",
       " -2.9418555814379488,\n",
       " -2.9228810268766949,\n",
       " -2.737924589216334,\n",
       " -2.7043390562459848,\n",
       " -2.6874066287575573,\n",
       " -2.5696326208260558,\n",
       " -2.4257019962493587,\n",
       " -2.3720120062656775,\n",
       " -2.3438486612963203,\n",
       " -2.2477528813946464,\n",
       " -2.2257033829213242,\n",
       " -2.1757551724364532,\n",
       " -2.1020209548533302,\n",
       " -2.1005052348878621,\n",
       " -2.0760372823541786,\n",
       " -1.9493576907427723,\n",
       " -1.7317464803517595,\n",
       " -1.6964527399433251,\n",
       " -1.660769551346192,\n",
       " -1.4406823109585076,\n",
       " -1.4264428747341071,\n",
       " -1.3369606604263851,\n",
       " -1.3303838867346371,\n",
       " -1.3285779792715999,\n",
       " -1.3085984427059003,\n",
       " -1.2439963055918355,\n",
       " -1.1620495474682286,\n",
       " -1.1296120961386009,\n",
       " -1.0828141463284453,\n",
       " -1.0808819313510725,\n",
       " -0.99924142245315295,\n",
       " -0.89359237390453927,\n",
       " -0.88152780710601064,\n",
       " -0.88040034784189913,\n",
       " -0.74390591944144546,\n",
       " -0.5162227176824814,\n",
       " -0.5114824872868553,\n",
       " -0.50108777770761037,\n",
       " -0.45050772298827724,\n",
       " -0.44620636749047549,\n",
       " -0.34904318420329616,\n",
       " -0.33595426985310439,\n",
       " -0.26381231251353654,\n",
       " -0.25148276950156401,\n",
       " -0.18924197053610214,\n",
       " -0.075088773460834091,\n",
       " -0.059199693250675978,\n",
       " -0.046744982822332304,\n",
       " -0.035153729919628063,\n",
       " 0.011908606767903507,\n",
       " 0.056955902828278226,\n",
       " 0.099266132284057562,\n",
       " 0.24762280902393741,\n",
       " 0.29624838305056755,\n",
       " 0.39717109891779501,\n",
       " 0.46978702582391918,\n",
       " 0.47970051728043472,\n",
       " 0.5405715376863327,\n",
       " 0.62851299098750246,\n",
       " 0.65676889838479724,\n",
       " 0.67469803473767342,\n",
       " 0.69247663584788199,\n",
       " 0.69282996386604623,\n",
       " 0.70871188762275494,\n",
       " 1.0744720882476884,\n",
       " 1.1107094120955168,\n",
       " 1.1412974429701421,\n",
       " 1.2223984138799437,\n",
       " 1.2439999547777489,\n",
       " 1.2679642206627904,\n",
       " 1.4106211043007733,\n",
       " 1.7225557894033727,\n",
       " 1.9056021285766036,\n",
       " 1.9631240084872985,\n",
       " 2.0331984731305823,\n",
       " 2.1232641585929031,\n",
       " 2.3238607553097523,\n",
       " 2.5611929859354206,\n",
       " 2.6496728575178565,\n",
       " 2.7679446407064177,\n",
       " 2.8836121739748251,\n",
       " 3.0753344537922231,\n",
       " 3.3315775161790526,\n",
       " 3.360507229694079,\n",
       " 3.5981936937844097,\n",
       " 3.9106303974103298,\n",
       " 4.3442509761434849,\n",
       " 4.4404011075649379,\n",
       " 4.52660251442515,\n",
       " 4.5726491905323883,\n",
       " 4.9043687969092105,\n",
       " 4.9397741228629286,\n",
       " 5.653275461564121,\n",
       " 5.7300981796544619,\n",
       " 6.3266229040046937]"
      ]
     },
     "execution_count": 19,
     "metadata": {},
     "output_type": "execute_result"
    }
   ],
   "source": [
    "cadera_error"
   ]
  },
  {
   "cell_type": "code",
   "execution_count": 15,
   "metadata": {
    "collapsed": true
   },
   "outputs": [],
   "source": [
    "data[\"cadera calculada\"] = cadera_calculada\n",
    "data[\"cadera error\"] = cadera_error"
   ]
  },
  {
   "cell_type": "code",
   "execution_count": 17,
   "metadata": {
    "collapsed": false
   },
   "outputs": [],
   "source": [
    "data.to_csv(\"primeros_cacl_1.csv\")"
   ]
  }
 ],
 "metadata": {
  "kernelspec": {
   "display_name": "Python 2",
   "language": "python",
   "name": "python2"
  },
  "language_info": {
   "codemirror_mode": {
    "name": "ipython",
    "version": 2
   },
   "file_extension": ".py",
   "mimetype": "text/x-python",
   "name": "python",
   "nbconvert_exporter": "python",
   "pygments_lexer": "ipython2",
   "version": "2.7.9"
  }
 },
 "nbformat": 4,
 "nbformat_minor": 2
}
