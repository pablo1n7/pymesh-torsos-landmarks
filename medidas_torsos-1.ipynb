{
 "cells": [
  {
   "cell_type": "code",
   "execution_count": 1,
   "metadata": {
    "collapsed": false
   },
   "outputs": [],
   "source": [
    "import pymesh\n",
    "import numpy as np\n",
    "import pandas as pd\n",
    "import matplotlib.pyplot as plt\n",
    "from mpl_toolkits.mplot3d import Axes3D\n",
    "import math"
   ]
  },
  {
   "cell_type": "code",
   "execution_count": 2,
   "metadata": {
    "collapsed": false
   },
   "outputs": [],
   "source": [
    "landmarks = pd.read_csv(\"../data_artificial_cites/landmarks_reales/model_mesh_028.pts\",header=None,index_col=[0],skiprows=range(2),delimiter=r\"\\s+\")\n",
    "output_mesh = pymesh.load_mesh(\"out/torsos/model_mesh_028.ply\")"
   ]
  },
  {
   "cell_type": "code",
   "execution_count": 3,
   "metadata": {
    "collapsed": false
   },
   "outputs": [],
   "source": [
    "ls0 = landmarks.iloc[0].tolist()\n",
    "ls1 = landmarks.iloc[4].tolist()\n",
    "ls2 = landmarks.iloc[9].tolist()\n",
    "ls3 = landmarks.iloc[10].tolist()\n",
    "head = landmarks.iloc[14].tolist()\n",
    "knee_left = landmarks.iloc[8].tolist()\n",
    "knee_right = landmarks.iloc[5].tolist()\n",
    "landmarks_torzo = np.array([ls0,ls1,ls2,ls3])\n",
    "center_knee = np.array([knee_left,knee_right]).mean(0)\n",
    "center_foot = np.array([landmarks.iloc[7].tolist(),landmarks.iloc[6].tolist()]).mean(0)"
   ]
  },
  {
   "cell_type": "code",
   "execution_count": 4,
   "metadata": {
    "collapsed": false
   },
   "outputs": [],
   "source": [
    "def distance3D(a, b):\n",
    "    return math.sqrt((a[0]-b[0])**2+(a[1]-b[1])**2+(a[2]-b[2])**2)\n",
    "\n",
    "def distance2D(a, b):\n",
    "    return math.sqrt( ((b[0]-a[0])**2)  + ((b[1]-a[1])**2) )\n",
    "\n",
    "def angle(a,b):\n",
    "    uv = a[0]*b[0] + a[1]*b[1]+ a[2]*b[2]\n",
    "    norma_uv = math.sqrt((a[0]**2+a[1]**2+a[2]**2)) * math.sqrt((b[0]**2+b[1]**2+b[2]**2 ))\n",
    "    return math.acos(uv/norma_uv)"
   ]
  },
  {
   "cell_type": "code",
   "execution_count": 5,
   "metadata": {
    "collapsed": false
   },
   "outputs": [
    {
     "data": {
      "text/plain": [
       "19201"
      ]
     },
     "execution_count": 5,
     "metadata": {},
     "output_type": "execute_result"
    }
   ],
   "source": [
    "semi_landmark = landmarks_torzo[1:3].mean(0)\n",
    "distancias = []\n",
    "for v in output_mesh.vertices:\n",
    "    distancias.append(distance3D(semi_landmark,v))\n",
    "distancias = np.array(distancias)\n",
    "ver_semi_landmark = output_mesh.vertices[distancias.argmin()]\n",
    "distancias.argmin()"
   ]
  },
  {
   "cell_type": "code",
   "execution_count": 6,
   "metadata": {
    "collapsed": false
   },
   "outputs": [
    {
     "data": {
      "text/plain": [
       "-0.279899149020803"
      ]
     },
     "execution_count": 6,
     "metadata": {},
     "output_type": "execute_result"
    }
   ],
   "source": [
    "xdot = (head[0]*center_foot[0] + head[1]*center_knee[1] + head[2]*center_knee[2])\n",
    "norma = math.sqrt(head[0]**2+head[1]**2+head[2]**2) * math.sqrt(center_knee[0]**2+center_knee[1]**2+center_knee[2]**2)\n",
    "angle_head = (math.cos(xdot/norma) ** -1)\n",
    "angle_head_r = math.radians(90 - math.degrees(angle_head))\n",
    "angle_head_r"
   ]
  },
  {
   "cell_type": "code",
   "execution_count": 7,
   "metadata": {
    "collapsed": true
   },
   "outputs": [],
   "source": [
    "new_mesh = pymesh.meshutils.generate_icosphere(0.01,ver_semi_landmark)\n",
    "q = pymesh.misc.Quaternion(quat=[1,-angle_head_r, 0, 0])\n",
    "circle_points = []\n",
    "for i in range(360):\n",
    "    distance_points = 0.15\n",
    "    angleY = math.radians(i)\n",
    "    angleZ = 0\n",
    "    x= ver_semi_landmark[0] + distance_points * math.cos (angleZ) * math.sin(angleY)\n",
    "    y= ver_semi_landmark[1] + distance_points * math.sin (angleZ)\n",
    "    z= ver_semi_landmark[2] + distance_points * math.cos (angleZ) * math.cos(angleY)\n",
    "    v_v = [x,y,z] \n",
    "    v = q.rotate(v_v)\n",
    "    v[2] = v[2] /6.5\n",
    "    v[1] = v[1] /6.5\n",
    "    v[0] = v[0] /5.5\n",
    "    circle_points.append(v)\n",
    "  \n",
    "    temp = pymesh.meshutils.generate_icosphere(0.01,v)\n",
    "    new_mesh = pymesh.boolean(new_mesh, temp , operation=\"union\",engine=\"auto\")\n",
    "pymesh.save_mesh(\"out/circle.ply\", new_mesh)"
   ]
  },
  {
   "cell_type": "code",
   "execution_count": 8,
   "metadata": {
    "collapsed": false
   },
   "outputs": [
    {
     "data": {
      "text/plain": [
       "(360, 3)"
      ]
     },
     "execution_count": 8,
     "metadata": {},
     "output_type": "execute_result"
    }
   ],
   "source": [
    "circle_points = np.array(circle_points)\n",
    "circle_points.shape"
   ]
  },
  {
   "cell_type": "code",
   "execution_count": 9,
   "metadata": {
    "collapsed": false
   },
   "outputs": [],
   "source": [
    "circle_points = np.array(circle_points)\n",
    "vertexs = []\n",
    "for cp in circle_points:\n",
    "    distancias_circle = []\n",
    "    for v in output_mesh.vertices:\n",
    "        distancias_circle.append(distance3D(cp,v))\n",
    "    vertexs.append(output_mesh.vertices[np.array(distancias_circle).argmin()])"
   ]
  },
  {
   "cell_type": "code",
   "execution_count": 10,
   "metadata": {
    "collapsed": true
   },
   "outputs": [],
   "source": [
    "del circle_points"
   ]
  },
  {
   "cell_type": "code",
   "execution_count": 11,
   "metadata": {
    "collapsed": false
   },
   "outputs": [
    {
     "data": {
      "text/plain": [
       "(360, 3)"
      ]
     },
     "execution_count": 11,
     "metadata": {},
     "output_type": "execute_result"
    }
   ],
   "source": [
    "np.shape(vertexs)"
   ]
  },
  {
   "cell_type": "code",
   "execution_count": 12,
   "metadata": {
    "collapsed": true
   },
   "outputs": [],
   "source": [
    "a = np.array(vertexs)\n",
    "a1 = np.unique(a)\n",
    "new_array = [tuple(row) for row in a]\n",
    "uniques = np.array(new_array)"
   ]
  },
  {
   "cell_type": "code",
   "execution_count": 13,
   "metadata": {
    "collapsed": false
   },
   "outputs": [],
   "source": [
    "#del vertexs\n",
    "del new_array\n",
    "del new_mesh\n",
    "del temp"
   ]
  },
  {
   "cell_type": "code",
   "execution_count": 14,
   "metadata": {
    "collapsed": false
   },
   "outputs": [],
   "source": [
    "# cinta = pymesh.meshutils.generate_icosphere(0.01,uniques[0])\n",
    "# for v in uniques[1:]:\n",
    "#     temp = pymesh.meshutils.generate_icosphere(0.01,v)\n",
    "#     cinta = pymesh.boolean(cinta, temp , operation=\"union\",engine=\"auto\")\n",
    "# pymesh.save_mesh(\"out/cinta.ply\", cinta)"
   ]
  },
  {
   "cell_type": "code",
   "execution_count": 15,
   "metadata": {
    "collapsed": true
   },
   "outputs": [],
   "source": [
    "import matplotlib.pyplot as plt\n",
    "from scipy.spatial import ConvexHull"
   ]
  },
  {
   "cell_type": "code",
   "execution_count": 16,
   "metadata": {
    "collapsed": false
   },
   "outputs": [
    {
     "data": {
      "image/png": "[encoded data removed]",
      "text/plain": [
       "<matplotlib.figure.Figure at 0x7f1393258bd0>"
      ]
     },
     "metadata": {},
     "output_type": "display_data"
    }
   ],
   "source": [
    "vertexs = np.array(vertexs)\n",
    "vertexs_2d = np.delete(vertexs, [1], axis=1)\n",
    "hull = ConvexHull(vertexs_2d,incremental=False)\n",
    "#plt.plot(points[:,0], points[:,1], 'o')\n",
    "# for simplex in hull.simplices:\n",
    "#     #print(simplex)\n",
    "#     plt.plot(l[simplex, 0], l[simplex, 1], 'k-')\n",
    "\n",
    "#hull.add_points(l)\n",
    "#hull.close()\n",
    "#plt.plot(output_mesh.vertices[:,0], output_mesh.vertices[:,2], 'g.', lw=2)\n",
    "plt.plot(vertexs_2d[hull.vertices,0], vertexs_2d[hull.vertices,1], 'r--')\n",
    "plt.plot(vertexs[:,0], vertexs[:,2], 'b.', lw=2)\n",
    "plt.show()"
   ]
  },
  {
   "cell_type": "code",
   "execution_count": 17,
   "metadata": {
    "collapsed": false
   },
   "outputs": [
    {
     "data": {
      "text/plain": [
       "0.8968975018298024"
      ]
     },
     "execution_count": 17,
     "metadata": {},
     "output_type": "execute_result"
    }
   ],
   "source": [
    "aux = 0\n",
    "for i,v in enumerate(vertexs_2d[hull.vertices][:-1]):\n",
    "    aux = aux + distance2D(v,vertexs_2d[hull.vertices][i+1])\n",
    "aux = aux + distance2D(vertexs_2d[hull.vertices][0],vertexs_2d[hull.vertices][-1])\n",
    "aux"
   ]
  },
  {
   "cell_type": "code",
   "execution_count": 22,
   "metadata": {
    "collapsed": false
   },
   "outputs": [
    {
     "data": {
      "text/plain": [
       "92.29566094375402"
      ]
     },
     "execution_count": 22,
     "metadata": {},
     "output_type": "execute_result"
    }
   ],
   "source": [
    "aux = 0\n",
    "for i,v in enumerate(vertexs_2d[:-1]):\n",
    "    aux = aux + distance2D(v,vertexs_2d[i+1])\n",
    "aux = aux + distance2D(vertexs_2d[0],vertexs_2d[-1])\n",
    "aux*100"
   ]
  },
  {
   "cell_type": "code",
   "execution_count": 19,
   "metadata": {
    "collapsed": false
   },
   "outputs": [],
   "source": [
    "cadera_real = 112.15\n",
    "altura_real = 169.6"
   ]
  },
  {
   "cell_type": "code",
   "execution_count": 20,
   "metadata": {
    "collapsed": false
   },
   "outputs": [
    {
     "name": "stdout",
     "output_type": "stream",
     "text": [
      "error cadera:19.8543390562\n"
     ]
    }
   ],
   "source": [
    "print(\"error cadera:\"+str(cadera_real-(aux* 100)))"
   ]
  },
  {
   "cell_type": "code",
   "execution_count": 21,
   "metadata": {
    "collapsed": false
   },
   "outputs": [
    {
     "name": "stdout",
     "output_type": "stream",
     "text": [
      "error altura:-3.46011532408\n"
     ]
    }
   ],
   "source": [
    "print(\"error altura:\"+str( ( distance3D(head,center_foot) * 100 ) - altura_real))"
   ]
  },
  {
   "cell_type": "code",
   "execution_count": null,
   "metadata": {
    "collapsed": false
   },
   "outputs": [],
   "source": []
  }
 ],
 "metadata": {
  "kernelspec": {
   "display_name": "Python 2",
   "language": "python",
   "name": "python2"
  },
  "language_info": {
   "codemirror_mode": {
    "name": "ipython",
    "version": 2
   },
   "file_extension": ".py",
   "mimetype": "text/x-python",
   "name": "python",
   "nbconvert_exporter": "python",
   "pygments_lexer": "ipython2",
   "version": "2.7.9"
  }
 },
 "nbformat": 4,
 "nbformat_minor": 2
}
