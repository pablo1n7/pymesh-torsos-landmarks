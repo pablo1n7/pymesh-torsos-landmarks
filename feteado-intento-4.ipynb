{
 "cells": [
  {
   "cell_type": "code",
   "execution_count": 1,
   "metadata": {
    "collapsed": true,
    "deletable": true,
    "editable": true
   },
   "outputs": [],
   "source": [
    "import pymesh\n",
    "import numpy as np\n",
    "import pandas as pd\n",
    "import math\n",
    "import glob\n",
    "\n",
    "def distance3D(a, b):\n",
    "    return math.sqrt((a[0]-b[0])**2+(a[1]-b[1])**2+(a[2]-b[2])**2)\n",
    "\n",
    "def distance2D(a, b):\n",
    "        return math.sqrt( ((b[0]-a[0])**2)  + ((b[1]-a[1])**2) )"
   ]
  },
  {
   "cell_type": "code",
   "execution_count": null,
   "metadata": {
    "collapsed": true,
    "deletable": true,
    "editable": true
   },
   "outputs": [],
   "source": []
  },
  {
   "cell_type": "code",
   "execution_count": 2,
   "metadata": {
    "collapsed": false,
    "deletable": true,
    "editable": true
   },
   "outputs": [],
   "source": [
    "fs_landmarks = sorted(glob.glob(\"../../Datos/data_artificial_cites/landmarks_reales/*.pts\"))\n",
    "fs_mesh = sorted(glob.glob(\"./out/torsos_rotados/*.ply\"))\n",
    "\n",
    "if np.shape(fs_landmarks) != np.shape(fs_mesh):\n",
    "    print \"No son iguales\""
   ]
  },
  {
   "cell_type": "code",
   "execution_count": 3,
   "metadata": {
    "collapsed": false,
    "deletable": true,
    "editable": true,
    "scrolled": true
   },
   "outputs": [
    {
     "data": {
      "text/plain": [
       "'./out/torsos_rotados/model_mesh_001.ply'"
      ]
     },
     "execution_count": 3,
     "metadata": {},
     "output_type": "execute_result"
    }
   ],
   "source": [
    "fs_mesh[0]"
   ]
  },
  {
   "cell_type": "code",
   "execution_count": 25,
   "metadata": {
    "collapsed": false,
    "deletable": true,
    "editable": true
   },
   "outputs": [
    {
     "name": "stdout",
     "output_type": "stream",
     "text": [
      "./out/torsos_rotados/model_mesh_001.ply  ../../Datos/data_artificial_cites/landmarks_reales/model_mesh_001.pts\n"
     ]
    }
   ],
   "source": [
    "#for landmarks_f, mesh_f in zip(fs_landmarks[0:1], fs_mesh[0:1]):\n",
    "mesh_f = fs_mesh[0]\n",
    "landmarks_f = fs_landmarks[0] \n",
    "print mesh_f+\"  \"+landmarks_f\n",
    "landmarks = pd.read_csv(landmarks_f,header=None,index_col=[0],skiprows=range(2),delimiter=r\"\\s+\")\n",
    "mesh = pymesh.load_mesh(mesh_f)\n",
    "ls0 = landmarks.iloc[0].tolist()\n",
    "ls1 = landmarks.iloc[4].tolist()\n",
    "ls2 = landmarks.iloc[9].tolist()\n",
    "ls3 = landmarks.iloc[10].tolist()\n",
    "head = landmarks.iloc[14].tolist()\n",
    "#foot_left = landmarks.iloc[7].tolist()\n",
    "#foot_right = landmarks.iloc[6].tolist()\n",
    "knee_left = landmarks.iloc[8].tolist()\n",
    "knee_right = landmarks.iloc[5].tolist()\n"
   ]
  },
  {
   "cell_type": "code",
   "execution_count": 5,
   "metadata": {
    "collapsed": true
   },
   "outputs": [],
   "source": [
    "alpha = -(math.pi /8)\n",
    "#matrix = [[1,0,0],[0,math.cos(alpha),-math.sin(alpha)],[0,math.sin(alpha),math.cos(alpha)],[0,0,0]]\n",
    "matrix = [[1,0,0,0],[0,math.cos(alpha),-math.sin(alpha),0],[0,math.sin(alpha),math.cos(alpha),0],[0,0,0,1]]   "
   ]
  },
  {
   "cell_type": "code",
   "execution_count": 6,
   "metadata": {
    "collapsed": false
   },
   "outputs": [],
   "source": [
    "ls0 = np.dot(matrix,[ls0[0],ls0[1],ls0[2],1])[:-1] \n",
    "ls3 = np.dot(matrix,[ls3[0],ls3[1],ls3[2],1])[:-1] \n",
    "\n",
    "ls1 = np.dot(matrix,[ls1[0],ls1[1],ls1[2],1])[:-1] \n",
    "ls2 = np.dot(matrix,[ls2[0],ls2[1],ls2[2],1])[:-1] \n",
    "\n",
    "head = np.dot(matrix,[head[0],head[1],head[2],1])[:-1] \n",
    "knee_left = np.dot(matrix,[knee_left[0],knee_left[1],knee_left[2],1])[:-1] \n",
    "knee_right = np.dot(matrix,[knee_right[0],knee_right[1],knee_right[2],1])[:-1] "
   ]
  },
  {
   "cell_type": "code",
   "execution_count": 7,
   "metadata": {
    "collapsed": true
   },
   "outputs": [],
   "source": [
    "center_knee = np.array([knee_left,knee_right]).mean(0)\n",
    "semi_landmark = np.array([ls1,ls2]).mean(0)\n",
    "distancias = []\n",
    "for v in mesh.vertices:\n",
    "    distancias.append(distance3D(semi_landmark,v))\n",
    "distancias = np.array(distancias)\n",
    "centro = mesh.vertices[distancias.argmin()]\n",
    "distancias.argmin()\n",
    "\n",
    "d = pymesh.meshutils.generate_icosphere(0.01,centro)\n",
    "pymesh.save_mesh(\"out/landk.ply\", d)"
   ]
  },
  {
   "cell_type": "code",
   "execution_count": 8,
   "metadata": {
    "collapsed": true
   },
   "outputs": [],
   "source": [
    "semi_landmark_superior = np.array([ls0,ls3]).mean(0)\n",
    "distancias = []\n",
    "for v in mesh.vertices:\n",
    "    distancias.append(distance3D(semi_landmark_superior,v))\n",
    "distancias = np.array(distancias)\n",
    "centro_superior = mesh.vertices[distancias.argmin()]\n",
    "\n",
    "d = pymesh.meshutils.generate_icosphere(0.01,centro_superior)\n",
    "pymesh.save_mesh(\"out/landk-s.ply\", d)"
   ]
  },
  {
   "cell_type": "code",
   "execution_count": 9,
   "metadata": {
    "collapsed": false
   },
   "outputs": [],
   "source": [
    "def lamina_corte(_centro):\n",
    "    delta = [0.4,0.0003,0.4]\n",
    "    xdot = (head[0]*center_knee[0] + head[1]*center_knee[1] + head[2]*center_knee[2])\n",
    "    norma = math.sqrt(head[0]**2+head[1]**2+head[2]**2) * math.sqrt(center_knee[0]**2+center_knee[1]**2+center_knee[2]**2)\n",
    "    angle_head = (math.cos(xdot/norma) ** -1)\n",
    "    angle_head_r = math.radians(90 - math.degrees(angle_head))\n",
    "    q = pymesh.misc.Quaternion(quat=[1,-angle_head_r, 0,0])\n",
    "    p1 = _centro + delta\n",
    "    p2 = _centro  -  delta\n",
    "    return pymesh.meshutils.generate_box_mesh(p2,p1 ,1)"
   ]
  },
  {
   "cell_type": "code",
   "execution_count": 10,
   "metadata": {
    "collapsed": false,
    "deletable": true,
    "editable": true
   },
   "outputs": [],
   "source": [
    "\n",
    "\n",
    "#matrix_translate = [[1,0,0,0],[0,1,0,0.02],[0,0,1,0],[0,0,0,1]]\n",
    "\n",
    "#for i,v in enumerate(c.vertices_ref):\n",
    "    #c.vertices_ref[i] = np.dot(matrix,[v[0],v[1],v[2],1])[:-1] \n",
    "    #c.vertices_ref[i] = np.dot(matrix,v)[:-1] \n",
    "\n",
    "    \n",
    "c = lamina_corte(centro_superior)\n",
    "pymesh.save_mesh(\"out/fetas/{}-feta-{}.ply\".format(-1,mesh_f.split(\"/\")[-1]),c)\n",
    "#new_mesh = c\n",
    "    \n",
    "c = lamina_corte(centro)\n",
    "pymesh.save_mesh(\"out/fetas/{}-feta-{}.ply\".format(0,mesh_f.split(\"/\")[-1]),c)\n",
    "\n",
    "\n"
   ]
  },
  {
   "cell_type": "code",
   "execution_count": 11,
   "metadata": {
    "collapsed": false
   },
   "outputs": [
    {
     "data": {
      "text/plain": [
       "0.004923362685204876"
      ]
     },
     "execution_count": 11,
     "metadata": {},
     "output_type": "execute_result"
    }
   ],
   "source": [
    "dist = distance2D(centro,centro_superior) / 98\n",
    "dist"
   ]
  },
  {
   "cell_type": "code",
   "execution_count": 12,
   "metadata": {
    "collapsed": true
   },
   "outputs": [],
   "source": [
    "matrix_translate = [[1,0,0,0],[0,1,0,dist],[0,0,1,0],[0,0,0,1]]"
   ]
  },
  {
   "cell_type": "code",
   "execution_count": 13,
   "metadata": {
    "collapsed": false
   },
   "outputs": [
    {
     "name": "stdout",
     "output_type": "stream",
     "text": [
      "----------------------------------------------------------\n"
     ]
    }
   ],
   "source": [
    "for j in range(1,98):\n",
    "    for i,v in enumerate(c.vertices_ref):\n",
    "        c.vertices_ref[i] = np.dot(matrix_translate,[v[0],v[1],v[2],1])[:-1] \n",
    "        #c.vertices_ref[i] = np.dot(matrix,v)[:-1] \n",
    "        #new_mesh = pymesh.boolean(new_mesh, c , operation=\"union\",engine=\"auto\")\n",
    "    pymesh.save_mesh(\"out/fetas/{}-feta-{}.ply\".format(j,mesh_f.split(\"/\")[-1]), c)\n",
    "\n",
    "new_mesh = pymesh.load_mesh(\"out/fetas/{}-feta-{}.ply\".format(-1,mesh_f.split(\"/\")[-1]))\n",
    "for i in range(0,98):\n",
    "    temp= pymesh.load_mesh(\"out/fetas/{}-feta-{}.ply\".format(i,mesh_f.split(\"/\")[-1]))\n",
    "    new_mesh = pymesh.boolean(new_mesh, temp , operation=\"union\",engine=\"auto\")\n",
    "\n",
    "output_mesh = pymesh.boolean(new_mesh, mesh, operation=\"intersection\",engine=\"auto\")\n",
    "pymesh.save_mesh(\"out/torsos_feteados/feteado-{}\".format(mesh_f.split(\"/\")[-1]), output_mesh)\n",
    "print \"----------------------------------------------------------\""
   ]
  },
  {
   "cell_type": "code",
   "execution_count": null,
   "metadata": {
    "collapsed": false
   },
   "outputs": [],
   "source": []
  },
  {
   "cell_type": "code",
   "execution_count": 16,
   "metadata": {
    "collapsed": false,
    "deletable": true,
    "editable": true
   },
   "outputs": [],
   "source": [
    "\n",
    "# for j in range(1,22):\n",
    "#     for i,v in enumerate(c.vertices_ref):\n",
    "#         c.vertices_ref[i] = np.dot(matrix_translate,[v[0],v[1],v[2],1])[:-1] \n",
    "#         #c.vertices_ref[i] = np.dot(matrix,v)[:-1] \n",
    "#         #new_mesh = pymesh.boolean(new_mesh, c , operation=\"union\",engine=\"auto\")\n",
    "#     pymesh.save_mesh(\"out/fetas/{}-feta-{}.ply\".format(j,mesh_f.split(\"/\")[-1]), c)\n",
    "\n",
    "# new_mesh = pymesh.load_mesh(\"out/fetas/{}-feta-{}.ply\".format(0,mesh_f.split(\"/\")[-1]))\n",
    "# for i in range(1,22):\n",
    "#     temp= pymesh.load_mesh(\"out/fetas/{}-feta-{}.ply\".format(i,mesh_f.split(\"/\")[-1]))\n",
    "#     new_mesh = pymesh.boolean(new_mesh, temp , operation=\"union\",engine=\"auto\")\n",
    "\n",
    "# output_mesh = pymesh.boolean(new_mesh, mesh, operation=\"intersection\",engine=\"auto\")\n",
    "# pymesh.save_mesh(\"out/torsos_feteados/feteado-{}\".format(mesh_f.split(\"/\")[-1]), output_mesh)\n",
    "# print \"----------------------------------------------------------\""
   ]
  },
  {
   "cell_type": "code",
   "execution_count": null,
   "metadata": {
    "collapsed": true
   },
   "outputs": [],
   "source": [
    "pymesh.meshutils."
   ]
  }
 ],
 "metadata": {
  "kernelspec": {
   "display_name": "Python 2",
   "language": "python",
   "name": "python2"
  },
  "language_info": {
   "codemirror_mode": {
    "name": "ipython",
    "version": 2
   },
   "file_extension": ".py",
   "mimetype": "text/x-python",
   "name": "python",
   "nbconvert_exporter": "python",
   "pygments_lexer": "ipython2",
   "version": "2.7.9"
  }
 },
 "nbformat": 4,
 "nbformat_minor": 2
}
